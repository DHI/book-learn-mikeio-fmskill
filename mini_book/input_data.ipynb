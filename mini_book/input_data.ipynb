{
 "cells": [
  {
   "cell_type": "code",
   "execution_count": null,
   "source": [],
   "outputs": [],
   "metadata": {}
  },
  {
   "cell_type": "markdown",
   "source": [
    "\n",
    "# Input data\n",
    "\n",
    "## Weather forcing\n",
    "\n",
    "The first example uses data from ECMWF ERA5 obtained from [CDS](https://cds.climate.copernicus.eu/#!/home)\n",
    "\n",
    "A common format for multidimensional data is [NetCDF](https://www.unidata.ucar.edu/software/netcdf/).\n",
    "\n",
    "An excellent python package for working with NetCDF in Python is [Xarray](http://xarray.pydata.org/en/stable/)."
   ],
   "metadata": {}
  },
  {
   "cell_type": "markdown",
   "source": [
    "To work with NetCDF data first we need to install the `netcdf4` and `xarray` packages"
   ],
   "metadata": {}
  },
  {
   "cell_type": "code",
   "execution_count": null,
   "source": [
    "! pip install netcdf4 xarray"
   ],
   "outputs": [],
   "metadata": {}
  },
  {
   "cell_type": "markdown",
   "source": [
    "Opening a NetCDF file with Xarray returns an `xarray.Dataset`"
   ],
   "metadata": {}
  },
  {
   "cell_type": "code",
   "execution_count": null,
   "source": [
    "import xarray as xr\n",
    "\n",
    "ds = xr.open_dataset(\"data/era5_small.nc\")\n",
    "ds"
   ],
   "outputs": [],
   "metadata": {}
  },
  {
   "cell_type": "markdown",
   "source": [
    "One of the datam variables is the t2m (Air temperature at 2m above the ground) which we can access in two different ways:\n",
    "\n",
    "1. Using the string \"t2m\"\n",
    "2. Or as a property of the Dataset object `.t2m`"
   ],
   "metadata": {}
  },
  {
   "cell_type": "code",
   "execution_count": null,
   "source": [
    "ds[\"t2m\"]"
   ],
   "outputs": [],
   "metadata": {}
  },
  {
   "cell_type": "code",
   "execution_count": null,
   "source": [
    "ds.t2m"
   ],
   "outputs": [],
   "metadata": {}
  },
  {
   "cell_type": "markdown",
   "source": [
    "To select the first timestep, we can use the `xarray.Dataset.isel` method."
   ],
   "metadata": {}
  },
  {
   "cell_type": "code",
   "execution_count": null,
   "source": [
    "ds0 = ds.isel(time=0)\n",
    "ds0"
   ],
   "outputs": [],
   "metadata": {}
  },
  {
   "cell_type": "markdown",
   "source": [
    "The dataset from the first timestep is also a Dataset, except it no longer has a time dimension.\n",
    "\n",
    "To plot a map of the air temperature we can use select the `t2m` property and call the plot method."
   ],
   "metadata": {}
  },
  {
   "cell_type": "code",
   "execution_count": null,
   "source": [
    "ds0.t2m.plot()"
   ],
   "outputs": [],
   "metadata": {}
  },
  {
   "cell_type": "markdown",
   "source": [
    "## Pressure"
   ],
   "metadata": {}
  },
  {
   "cell_type": "markdown",
   "source": [
    "Atmospheric pressure comes in different flavors.\n",
    "\n",
    "`Surface pressure` (sp) is the pressure at ground level, i.e. following the terrain.\n",
    "\n",
    "In the following plot you can clearly see the decrease in surface pressure with altitude in areas with mountains.\n",
    "\n",
    "This is *NOT* the variable used by MIKE 21 FM HD."
   ],
   "metadata": {}
  },
  {
   "cell_type": "code",
   "execution_count": null,
   "source": [
    "ds0.sp.plot()"
   ],
   "outputs": [],
   "metadata": {}
  },
  {
   "cell_type": "markdown",
   "source": [
    "MIKE 21 FM HD expects the atmospheric pressure reduced to Mean Sea Level. (`msl`) \n",
    "\n",
    "In the following plot the pressure field has a much smaller range, since the variation with altitude have been removed."
   ],
   "metadata": {}
  },
  {
   "cell_type": "code",
   "execution_count": null,
   "source": [
    "ds0.msl.plot()"
   ],
   "outputs": [],
   "metadata": {}
  },
  {
   "cell_type": "markdown",
   "source": [
    "## Wind"
   ],
   "metadata": {}
  },
  {
   "cell_type": "markdown",
   "source": [
    "The wind velocity components U,V at 10m above the ground, are found in the two data variables, `u10` and `v10`"
   ],
   "metadata": {}
  },
  {
   "cell_type": "code",
   "execution_count": null,
   "source": [
    "ds0.u10.long_name"
   ],
   "outputs": [],
   "metadata": {}
  },
  {
   "cell_type": "code",
   "execution_count": null,
   "source": [
    "ds0.v10.long_name"
   ],
   "outputs": [],
   "metadata": {}
  },
  {
   "cell_type": "markdown",
   "source": [
    "## Convert to dfs2"
   ],
   "metadata": {}
  },
  {
   "cell_type": "markdown",
   "source": [
    "### Sub-region\n",
    "\n",
    "In this case the NetCDF file covers a much larger area, than is required for our modelling work, so first step is to create a spatial subset to match our Area of Interest.\n",
    "\n",
    "Since the latitude dimension is ordered in decreasing order in this dataset, the slice has to go from high to low."
   ],
   "metadata": {}
  },
  {
   "cell_type": "code",
   "execution_count": null,
   "source": [
    "ds_aoi = ds.sel(longitude=slice(10,30), \n",
    "                latitude=slice(60,45)) # N -> S\n",
    "ds_aoi"
   ],
   "outputs": [],
   "metadata": {}
  },
  {
   "cell_type": "markdown",
   "source": [
    "Make a plot to check that the area is the one we expect."
   ],
   "metadata": {}
  },
  {
   "cell_type": "code",
   "execution_count": null,
   "source": [
    "ds_aoi.isel(time=0).u10.plot(cmap='jet')"
   ],
   "outputs": [],
   "metadata": {}
  },
  {
   "cell_type": "markdown",
   "source": [
    "### Time\n",
    "\n",
    "Now we are ready to convert this data to dfs2.\n",
    "\n",
    "First step is to create a time axis, which can be understood by MIKE IO."
   ],
   "metadata": {}
  },
  {
   "cell_type": "code",
   "execution_count": null,
   "source": [
    "import pandas as pd\n",
    "\n",
    "time = pd.DatetimeIndex(ds.time)\n",
    "time"
   ],
   "outputs": [],
   "metadata": {}
  },
  {
   "cell_type": "markdown",
   "source": [
    "The second step is to collect the variables that we need, and at the same time do unit conversion where it is necessary. In this case for pressure and temperature."
   ],
   "metadata": {}
  },
  {
   "cell_type": "code",
   "execution_count": null,
   "source": [
    "data = [ds_aoi.msl.values / 100.0, # Pa -> hPa\n",
    "        ds_aoi.u10.values,\n",
    "        ds_aoi.v10.values,\n",
    "        ds_aoi.t2m.values - 273.15] # K -> °C"
   ],
   "outputs": [],
   "metadata": {}
  },
  {
   "cell_type": "markdown",
   "source": [
    "The third step is to create the proper EUM item information for each variable."
   ],
   "metadata": {}
  },
  {
   "cell_type": "code",
   "execution_count": null,
   "source": [
    "from mikeio.eum import EUMType, EUMUnit, ItemInfo\n",
    "\n",
    "items = [\n",
    "        ItemInfo(\"MSLP\", EUMType.Pressure, EUMUnit.hectopascal),\n",
    "        ItemInfo(\"U 10m\", EUMType.Wind_Velocity, EUMUnit.meter_per_sec),\n",
    "        ItemInfo(\"V 10m\", EUMType.Wind_Velocity, EUMUnit.meter_per_sec),\n",
    "        ItemInfo(\"Temperature\", EUMType.Temperature, EUMUnit.degree_Celsius)\n",
    "]"
   ],
   "outputs": [],
   "metadata": {}
  },
  {
   "cell_type": "markdown",
   "source": [
    "The fourth step is to gather the data, time and item information in a `mikeio.Dataset`"
   ],
   "metadata": {}
  },
  {
   "cell_type": "code",
   "execution_count": null,
   "source": [
    "from mikeio import Dataset\n",
    "\n",
    "my_ds = Dataset(data=data, time=time, items=items)\n",
    "my_ds"
   ],
   "outputs": [],
   "metadata": {}
  },
  {
   "cell_type": "code",
   "execution_count": null,
   "source": [
    "ds_aoi.longitude.values[0], ds.longitude.values[-1]"
   ],
   "outputs": [],
   "metadata": {}
  },
  {
   "cell_type": "code",
   "execution_count": null,
   "source": [
    "dx = ds_aoi.longitude.values[1] - ds_aoi.longitude.values[0]\n",
    "dx"
   ],
   "outputs": [],
   "metadata": {}
  },
  {
   "cell_type": "code",
   "execution_count": null,
   "source": [
    "ds_aoi.latitude.values[0], ds_aoi.latitude.values[-1]"
   ],
   "outputs": [],
   "metadata": {}
  },
  {
   "cell_type": "code",
   "execution_count": null,
   "source": [
    "dy = ds_aoi.latitude.values[0] - ds_aoi.latitude.values[1] # dx, dy should be positive!\n",
    "dy"
   ],
   "outputs": [],
   "metadata": {}
  },
  {
   "cell_type": "code",
   "execution_count": null,
   "source": [
    "type(data[0])"
   ],
   "outputs": [],
   "metadata": {}
  },
  {
   "cell_type": "markdown",
   "source": [
    "The dimensions for at  DFS2 are expected to be (t, y, x), which matches the ones used by this dataset.\n",
    "\n",
    "This convention is recommended by the [CF convention](http://cfconventions.org/cf-conventions/cf-conventions.html#dimensions)"
   ],
   "metadata": {}
  },
  {
   "cell_type": "code",
   "execution_count": null,
   "source": [
    "ds.Conventions"
   ],
   "outputs": [],
   "metadata": {}
  },
  {
   "cell_type": "code",
   "execution_count": null,
   "source": [
    "ds.u10.dims"
   ],
   "outputs": [],
   "metadata": {}
  },
  {
   "cell_type": "code",
   "execution_count": null,
   "source": [
    "data[0].shape"
   ],
   "outputs": [],
   "metadata": {}
  },
  {
   "cell_type": "code",
   "execution_count": null,
   "source": [
    "lon_origin = ds_aoi.longitude.values[0]\n",
    "lon_origin"
   ],
   "outputs": [],
   "metadata": {}
  },
  {
   "cell_type": "code",
   "execution_count": null,
   "source": [
    "lat_origin = ds_aoi.latitude.values[-1] # Southern-most point\n",
    "lat_origin"
   ],
   "outputs": [],
   "metadata": {}
  },
  {
   "cell_type": "code",
   "execution_count": null,
   "source": [
    "# This dataset North-South orientation matches the expected, but for other dataset you might need to flip the data upside-down\n",
    "# It can be done like this\n",
    "# my_ds = my_ds.flipud()"
   ],
   "outputs": [],
   "metadata": {}
  },
  {
   "cell_type": "markdown",
   "source": [
    "The final step is to write the dataset to a dfs2 file, where we also provide information on the coordinate reference system to use (i.e. projection, origin, spacing)."
   ],
   "metadata": {}
  },
  {
   "cell_type": "code",
   "execution_count": null,
   "source": [
    "from mikeio import Dfs2\n",
    "\n",
    "orientation = 0.0\n",
    "\n",
    "dfs = Dfs2()\n",
    "dfs.write(\"era5_aoi.dfs2\", data=my_ds, coordinate=[\"LONG/LAT\", lat_origin, lon_origin, orientation], dx=dx, dy=dy)"
   ],
   "outputs": [],
   "metadata": {}
  },
  {
   "cell_type": "markdown",
   "source": [
    "\n",
    "Screenshot of U 10m from MIKE Zero\n",
    "\n",
    "![](images/era5_u10_dfs2.png)"
   ],
   "metadata": {}
  },
  {
   "cell_type": "markdown",
   "source": [],
   "metadata": {}
  },
  {
   "cell_type": "markdown",
   "source": [
    "## Unstructured grid forcing\n",
    "\n",
    "E.g. roughness map"
   ],
   "metadata": {}
  },
  {
   "cell_type": "markdown",
   "source": [],
   "metadata": {}
  },
  {
   "cell_type": "code",
   "execution_count": null,
   "source": [
    "from mikeio import Mesh, Dfsu\n",
    "\n",
    "msh = Mesh(\"data/FakeLake.dfsu\")\n",
    "msh.plot()"
   ],
   "outputs": [],
   "metadata": {}
  },
  {
   "cell_type": "code",
   "execution_count": null,
   "source": [
    "import numpy as np\n",
    "import matplotlib.pyplot as plt\n",
    "\n",
    "z = np.linspace(0,-30)\n",
    "manning = 32 + (40 - 32)*(1 - np.exp(z/10))\n",
    "\n",
    "plt.plot(z, manning)\n",
    "plt.xlim(0,-30)\n",
    "plt.ylabel(\"Manning\")\n",
    "plt.xlabel(\"Depth (m)\")\n",
    "plt.title(\"This is only an example...\")"
   ],
   "outputs": [],
   "metadata": {}
  },
  {
   "cell_type": "markdown",
   "source": [
    "Extract the Z values in each element."
   ],
   "metadata": {}
  },
  {
   "cell_type": "code",
   "execution_count": null,
   "source": [
    "ze = msh.element_coordinates[:,2]"
   ],
   "outputs": [],
   "metadata": {}
  },
  {
   "cell_type": "markdown",
   "source": [
    "Create a new array of manning numbers based on the depth. This is only a hypothetical example of a data transformation based on the data in the file, not a best practise for bed friction."
   ],
   "metadata": {}
  },
  {
   "cell_type": "code",
   "execution_count": null,
   "source": [
    "me = 32 + (40 - 32)*(1 - np.exp(ze/10))"
   ],
   "outputs": [],
   "metadata": {}
  },
  {
   "cell_type": "markdown",
   "source": [
    "The primary use case of DFS files is for time-varying data, so in order to use this time-independent data, we have to introduce a new axis, a time dimension.\n",
    "\n",
    "One simple way to do this is to use the numpy function `atleast_2d`."
   ],
   "metadata": {}
  },
  {
   "cell_type": "code",
   "execution_count": null,
   "source": [
    "me2d = np.atleast_2d(me) # Introduce time axis\n",
    "me2d.shape"
   ],
   "outputs": [],
   "metadata": {}
  },
  {
   "cell_type": "markdown",
   "source": [
    "Now the array is a 2d array"
   ],
   "metadata": {}
  },
  {
   "cell_type": "code",
   "execution_count": null,
   "source": [
    "from mikeio.eum import ItemInfo\n",
    "from mikeio import Dataset\n",
    "\n",
    "my_ds = Dataset(data=[me2d],\n",
    "                time=\"2000-1-1\", # For static data, this is not used by MIKE 21\n",
    "                items=[ItemInfo(\"Roughness\", EUMType.Mannings_M)])\n",
    "my_ds"
   ],
   "outputs": [],
   "metadata": {}
  },
  {
   "cell_type": "code",
   "execution_count": null,
   "source": [
    "dfs = Dfsu(\"data/FakeLake.dfsu\") # use this file as template\n",
    "dfs.write(\"manning.dfsu\", data=my_ds)"
   ],
   "outputs": [],
   "metadata": {}
  },
  {
   "cell_type": "code",
   "execution_count": null,
   "source": [
    "dfs = Dfsu(\"manning.dfsu\")\n",
    "dfs"
   ],
   "outputs": [],
   "metadata": {}
  },
  {
   "cell_type": "code",
   "execution_count": null,
   "source": [
    "ds = dfs.read()\n",
    "dfs.plot(ds[\"Roughness\"][0], title=\"Manning\")"
   ],
   "outputs": [],
   "metadata": {}
  }
 ],
 "metadata": {
  "orig_nbformat": 4,
  "language_info": {
   "name": "python",
   "version": "3.9.6",
   "mimetype": "text/x-python",
   "codemirror_mode": {
    "name": "ipython",
    "version": 3
   },
   "pygments_lexer": "ipython3",
   "nbconvert_exporter": "python",
   "file_extension": ".py"
  },
  "kernelspec": {
   "name": "python3",
   "display_name": "Python 3.9.6 64-bit"
  },
  "interpreter": {
   "hash": "f4041ee05ab07c15354d6207e763f17a216c3f5ccf08906343c2b4fd3fa7a6fb"
  }
 },
 "nbformat": 4,
 "nbformat_minor": 2
}