{
 "cells": [
  {
   "cell_type": "markdown",
   "metadata": {},
   "source": [
    "# Dfsu 3D\n",
    "\n",
    "Layered dfsu files comes in several different shapes:\n",
    "\n",
    "* 3D\n",
    "* 2D Vertical slice (transect)\n",
    "* 1D Vertical profile\n",
    "\n",
    "Two layer systems exist:\n",
    "\n",
    "* sigma (terrain and surface following coordinates)\n",
    "* sigma-z (sigma layers at the top and fixed z-layers at the bottom)\n",
    "\n",
    "In sigma-layered files, all columns has the same number of layers. In sigma-z files, the number of z-layers can be different for different columns.  \n",
    "\n",
    "Layered dfsu files have a \"hidden\" first dynamic item called \"zn\" with the (dynamic) z-positions of the nodes. \n",
    "\n",
    "Read the [MIKE IO dfsu-3d documentation](https://dhi.github.io/mikeio/dfsu-3d.html) for more info."
   ]
  },
  {
   "cell_type": "code",
   "execution_count": null,
   "metadata": {},
   "outputs": [],
   "source": [
    "import matplotlib.pyplot as plt\n",
    "import mikeio"
   ]
  },
  {
   "cell_type": "markdown",
   "metadata": {},
   "source": [
    "## 3D Sigma-z"
   ]
  },
  {
   "cell_type": "code",
   "execution_count": null,
   "metadata": {},
   "outputs": [],
   "source": [
    "filename = \"data/oresund_sigma_z.dfsu\"\n",
    "dfs = mikeio.open(filename)\n",
    "dfs"
   ]
  },
  {
   "cell_type": "markdown",
   "metadata": {},
   "source": [
    "Apart from the normal dfsu properties, layered dfsu files have these properties: "
   ]
  },
  {
   "cell_type": "code",
   "execution_count": null,
   "metadata": {},
   "outputs": [],
   "source": [
    "print(f\"Maximum number of layers: {dfs.n_layers}\")\n",
    "print(f\"Number of sigma layers: {dfs.n_sigma_layers}\")\n",
    "print(f\"Maximum number of z-layers: {dfs.n_z_layers}\")\n",
    "print(f\"The layer number for each 3d element: {dfs.layer_ids}\")\n",
    "print(f\"List of 3d element ids of surface layer: {dfs.top_elements}\")\n",
    "print(f\"List of 3d element ids of bottom layer: {dfs.bottom_elements}\")\n",
    "print(f\"List of number of layers for each column: {dfs.n_layers_per_column}\")\n",
    "print(f\"The 2d-to-3d element connectivity table for a 3d object: {dfs.e2_e3_table[:3]} ...\")\n",
    "print(f\"The associated 2d element id for each 3d element: {dfs.elem2d_ids}\")"
   ]
  },
  {
   "cell_type": "markdown",
   "metadata": {},
   "source": [
    "The associated 2D geometry for a 3D file can be outputted in this way:"
   ]
  },
  {
   "cell_type": "code",
   "execution_count": null,
   "metadata": {},
   "outputs": [],
   "source": [
    "geom2d = dfs.geometry2d\n",
    "geom2d"
   ]
  },
  {
   "cell_type": "code",
   "execution_count": null,
   "metadata": {},
   "outputs": [],
   "source": [
    "geom2d.n_elements"
   ]
  },
  {
   "cell_type": "markdown",
   "metadata": {},
   "source": [
    "### Layers in a 3D file\n",
    "\n",
    "Get element ids for a specific layer with the get_layer_elements() method. Layer ids are 0-based (new in MIKE IO 0.10). "
   ]
  },
  {
   "cell_type": "code",
   "execution_count": null,
   "metadata": {},
   "outputs": [],
   "source": [
    "print(\"Number of elements per layer (5 z-layers, 4 sigma layers):\")\n",
    "for j in range(dfs.n_layers):\n",
    "    print(f\"Layer {j}: {len(dfs.get_layer_elements(j))}\")"
   ]
  },
  {
   "cell_type": "code",
   "execution_count": null,
   "metadata": {},
   "outputs": [],
   "source": [
    "# the bottom layer is a list of the elements with the lowest id for each column\n",
    "# For sigma-z files it is NOT the same as layer 1\n",
    "print(f\"Bottom layer: {len(dfs.bottom_elements)}\")"
   ]
  },
  {
   "cell_type": "markdown",
   "metadata": {},
   "source": [
    "### Surface layer of 3D file"
   ]
  },
  {
   "cell_type": "code",
   "execution_count": null,
   "metadata": {},
   "outputs": [],
   "source": [
    "ds = dfs.read(layers=\"top\")\n",
    "print(ds)"
   ]
  },
  {
   "cell_type": "code",
   "execution_count": null,
   "metadata": {},
   "outputs": [],
   "source": [
    "ds[\"Temperature\"].plot();"
   ]
  },
  {
   "cell_type": "code",
   "execution_count": null,
   "metadata": {},
   "outputs": [],
   "source": [
    "max_t = ds['Temperature'].values.max()\n",
    "print(f'Maximum temperature in top layer: {max_t:.1f}C')"
   ]
  },
  {
   "cell_type": "markdown",
   "metadata": {},
   "source": [
    "### Find position of max temperature and plot\n",
    "\n",
    "Use numpy argmax() method to find the element with the largest value."
   ]
  },
  {
   "cell_type": "code",
   "execution_count": null,
   "metadata": {},
   "outputs": [],
   "source": [
    "timestep = 0\n",
    "max_elem_id = ds['Temperature'].isel(time=timestep).values.argmax()\n",
    "top_element_coordinates = dfs.element_coordinates[dfs.top_elements]\n",
    "max_x, max_y = top_element_coordinates[max_elem_id][:2]\n",
    "max_x, max_y"
   ]
  },
  {
   "cell_type": "code",
   "execution_count": null,
   "metadata": {},
   "outputs": [],
   "source": [
    "ax = ds['Temperature'].plot(figsize=(6,7))\n",
    "ax.plot(max_x, max_y, marker='*', markersize=20);"
   ]
  },
  {
   "cell_type": "markdown",
   "metadata": {},
   "source": [
    "# Read 1D profile from 3D file\n",
    "\n",
    "Find water column which has highest temperature and plot profile for all 3 time steps using dynamic z information. "
   ]
  },
  {
   "cell_type": "code",
   "execution_count": null,
   "metadata": {},
   "outputs": [],
   "source": [
    "dsp = dfs.read(x=max_x, y=max_y) # select vertical column from dfsu-3d "
   ]
  },
  {
   "cell_type": "code",
   "execution_count": null,
   "metadata": {},
   "outputs": [],
   "source": [
    "dsp['Temperature'].shape   # 3 timesteps and 4 layers (no z-layers at this position)"
   ]
  },
  {
   "cell_type": "code",
   "execution_count": null,
   "metadata": {},
   "outputs": [],
   "source": [
    "dsp['Temperature'].plot();"
   ]
  },
  {
   "cell_type": "markdown",
   "metadata": {},
   "source": [
    "## Read vertical slice"
   ]
  },
  {
   "cell_type": "code",
   "execution_count": null,
   "metadata": {},
   "outputs": [],
   "source": [
    "filename = \"data/oresund_vertical_slice.dfsu\"\n",
    "dfs = mikeio.open(filename)\n",
    "dfs"
   ]
  },
  {
   "cell_type": "code",
   "execution_count": null,
   "metadata": {},
   "outputs": [],
   "source": [
    "print(dfs.bottom_elements[:9])\n",
    "print(dfs.n_layers_per_column[:9])\n",
    "print(dfs.top_elements[:9])"
   ]
  },
  {
   "cell_type": "code",
   "execution_count": null,
   "metadata": {},
   "outputs": [],
   "source": [
    "da = dfs.read(items=\"Temperature\")[0]"
   ]
  },
  {
   "cell_type": "code",
   "execution_count": null,
   "metadata": {},
   "outputs": [],
   "source": [
    "da.plot();"
   ]
  },
  {
   "cell_type": "code",
   "execution_count": null,
   "metadata": {},
   "outputs": [],
   "source": []
  }
 ],
 "metadata": {
  "interpreter": {
   "hash": "ce8098af3ce22f00283f2dbf9dff06733072d21f076b7f034380a2cf9868eeaa"
  },
  "kernelspec": {
   "display_name": "Python 3.8.10 ('base')",
   "language": "python",
   "name": "python3"
  },
  "language_info": {
   "codemirror_mode": {
    "name": "ipython",
    "version": 3
   },
   "file_extension": ".py",
   "mimetype": "text/x-python",
   "name": "python",
   "nbconvert_exporter": "python",
   "pygments_lexer": "ipython3",
   "version": "3.8.10"
  },
  "orig_nbformat": 4
 },
 "nbformat": 4,
 "nbformat_minor": 2
}
