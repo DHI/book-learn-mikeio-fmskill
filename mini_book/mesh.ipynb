{
 "cells": [
  {
   "cell_type": "markdown",
   "source": [
    "# Mesh\n",
    "\n",
    "See [Mesh in MIKE IO Documentation](https://dhi.github.io/mikeio/dfsu.html)"
   ],
   "metadata": {}
  },
  {
   "cell_type": "code",
   "execution_count": null,
   "source": [
    "import numpy as np\n",
    "import matplotlib.pyplot as plt\n",
    "from mikeio import Mesh"
   ],
   "outputs": [],
   "metadata": {}
  },
  {
   "cell_type": "markdown",
   "source": [
    "## A simple mesh\n",
    "\n",
    "Let's consider a simple mesh consisting of 2 triangular elements. "
   ],
   "metadata": {}
  },
  {
   "cell_type": "markdown",
   "source": [
    ":::{note}\n",
    "Example data can be found in the `mini_book/data` folder in this [zip-file](https://github.com/DHI/book-learn-mikeio-fmskill/archive/refs/heads/main.zip).\n",
    ":::\n"
   ],
   "metadata": {}
  },
  {
   "cell_type": "code",
   "execution_count": null,
   "source": [
    "fn = \"data/two_elements.mesh\""
   ],
   "outputs": [],
   "metadata": {}
  },
  {
   "cell_type": "code",
   "execution_count": null,
   "source": [
    "with open(fn, \"r\") as f:\n",
    "    print(f.read())"
   ],
   "outputs": [],
   "metadata": {}
  },
  {
   "cell_type": "code",
   "execution_count": null,
   "source": [
    "msh = Mesh(fn)\n",
    "msh"
   ],
   "outputs": [],
   "metadata": {}
  },
  {
   "cell_type": "code",
   "execution_count": null,
   "source": [
    "msh.plot();"
   ],
   "outputs": [],
   "metadata": {}
  },
  {
   "cell_type": "code",
   "execution_count": null,
   "source": [
    "msh.node_coordinates"
   ],
   "outputs": [],
   "metadata": {}
  },
  {
   "cell_type": "code",
   "execution_count": null,
   "source": [
    "msh.element_table"
   ],
   "outputs": [],
   "metadata": {}
  },
  {
   "cell_type": "code",
   "execution_count": null,
   "source": [
    "msh.element_coordinates"
   ],
   "outputs": [],
   "metadata": {}
  },
  {
   "cell_type": "code",
   "execution_count": null,
   "source": [
    "msh.get_element_area()"
   ],
   "outputs": [],
   "metadata": {}
  },
  {
   "cell_type": "markdown",
   "source": [
    "Let's plot the node and element coordinates:"
   ],
   "metadata": {}
  },
  {
   "cell_type": "code",
   "execution_count": null,
   "source": [
    "xn, yn = msh.node_coordinates[:,0], msh.node_coordinates[:,1]\n",
    "xe, ye = msh.element_coordinates[:,0], msh.element_coordinates[:,1]\n",
    "\n",
    "ax = msh.plot()\n",
    "ax.plot(xn, yn, 'ro', markersize=10)\n",
    "ax.plot(xe, ye, 'bx', markersize=10)"
   ],
   "outputs": [],
   "metadata": {}
  },
  {
   "cell_type": "markdown",
   "source": [
    "### Boundary polylines\n",
    "\n",
    "It can sometimes be convenient to have mesh boundary as a polyline (or multiple in case of more complex meshes). "
   ],
   "metadata": {}
  },
  {
   "cell_type": "code",
   "execution_count": null,
   "source": [
    "bxy = msh.boundary_polylines.exteriors[0].xy\n",
    "plt.plot(bxy[:,0], bxy[:,1])\n",
    "plt.axis(\"equal\");"
   ],
   "outputs": [],
   "metadata": {}
  },
  {
   "cell_type": "markdown",
   "source": [
    "## Inside domain?\n",
    "\n",
    "MIKE IO has a method for determining if a point (or a list of points) is inside the domain: \n",
    "\n",
    "* contains()"
   ],
   "metadata": {}
  },
  {
   "cell_type": "code",
   "execution_count": null,
   "source": [
    "pt_1 = [2.0, 1.2]\n",
    "msh.contains(pt_1)[0]"
   ],
   "outputs": [],
   "metadata": {}
  },
  {
   "cell_type": "code",
   "execution_count": null,
   "source": [
    "# or multiple points at the same time\n",
    "pt_2 = [4.0, 1.2]\n",
    "pts = np.array([pt_1, pt_2])\n",
    "msh.contains(pts)"
   ],
   "outputs": [],
   "metadata": {}
  },
  {
   "cell_type": "code",
   "execution_count": null,
   "source": [
    "plt.plot(bxy[:,0], bxy[:,1], label='boundary')\n",
    "plt.plot(xe[0], ye[0], 'b*', markersize=10, label=\"center, elem 0\")\n",
    "plt.plot(xe[1], ye[1], 'c*', markersize=10, label=\"center, elem 1\")\n",
    "plt.plot(*pt_1, 'go', markersize=10, label=\"pt_1\")\n",
    "plt.plot(*pt_2, 'rs', markersize=10, label=\"pt_2\")\n",
    "plt.axis(\"equal\")\n",
    "plt.legend(loc=\"upper right\");"
   ],
   "outputs": [],
   "metadata": {}
  },
  {
   "cell_type": "markdown",
   "source": [
    "## Find nearest points\r\n",
    "\r\n",
    "MIKE IO has a method for obtaining a list of the n closest element centers: \r\n",
    "\r\n",
    "* find_nearest_elements()"
   ],
   "metadata": {}
  },
  {
   "cell_type": "code",
   "execution_count": null,
   "source": [
    "msh.find_nearest_elements(pt_1)"
   ],
   "outputs": [],
   "metadata": {}
  },
  {
   "cell_type": "code",
   "execution_count": null,
   "source": [
    "msh.find_nearest_elements(pt_1, return_distances=True)"
   ],
   "outputs": [],
   "metadata": {}
  },
  {
   "cell_type": "code",
   "execution_count": null,
   "source": [
    "msh.find_nearest_elements(pt_1, n_nearest=2)"
   ],
   "outputs": [],
   "metadata": {}
  },
  {
   "cell_type": "code",
   "execution_count": null,
   "source": [
    "# for multiple points\n",
    "msh.find_nearest_elements(pts, return_distances=True)"
   ],
   "outputs": [],
   "metadata": {}
  },
  {
   "cell_type": "markdown",
   "source": [
    "## A larger mesh\r\n",
    "\r\n",
    "A dfsu file can also be loaded as a Mesh object"
   ],
   "metadata": {}
  },
  {
   "cell_type": "code",
   "execution_count": null,
   "source": [
    "fn = \"data/FakeLake.dfsu\"\n",
    "msh = Mesh(fn)"
   ],
   "outputs": [],
   "metadata": {}
  },
  {
   "cell_type": "code",
   "execution_count": null,
   "source": [
    "msh.plot();"
   ],
   "outputs": [],
   "metadata": {}
  },
  {
   "cell_type": "code",
   "execution_count": null,
   "source": [
    "msh.max_nodes_per_element"
   ],
   "outputs": [],
   "metadata": {}
  },
  {
   "cell_type": "code",
   "execution_count": null,
   "source": [
    "msh.plot_boundary_nodes()"
   ],
   "outputs": [],
   "metadata": {}
  },
  {
   "cell_type": "code",
   "execution_count": null,
   "source": [
    "bnd = msh.boundary_polylines\n",
    "bnd.n_exteriors, bnd.n_interiors"
   ],
   "outputs": [],
   "metadata": {}
  },
  {
   "cell_type": "code",
   "execution_count": null,
   "source": [
    "ext0 = bnd.exteriors[0]\n",
    "plt.plot(ext0.xy[:,0], ext0.xy[:,1], label='exterior 0')\n",
    "int0 = bnd.interiors[0]\n",
    "plt.plot(int0.xy[:,0], int0.xy[:,1], label='interior 0')\n",
    "plt.legend();"
   ],
   "outputs": [],
   "metadata": {}
  },
  {
   "cell_type": "code",
   "execution_count": null,
   "source": [
    "# msh.to_shapely()"
   ],
   "outputs": [],
   "metadata": {}
  },
  {
   "cell_type": "markdown",
   "source": [
    "## Change depth"
   ],
   "metadata": {}
  },
  {
   "cell_type": "code",
   "execution_count": null,
   "source": [
    "msh = Mesh(fn)\n",
    "msh.plot();"
   ],
   "outputs": [],
   "metadata": {}
  },
  {
   "cell_type": "code",
   "execution_count": null,
   "source": [
    "# zn == nodes, not elements!\n",
    "msh.zn = np.clip(msh.zn, -15, 0) # clip depth to interval [-15,0]"
   ],
   "outputs": [],
   "metadata": {}
  },
  {
   "cell_type": "code",
   "execution_count": null,
   "source": [
    "msh.plot();"
   ],
   "outputs": [],
   "metadata": {}
  },
  {
   "cell_type": "code",
   "execution_count": null,
   "source": [
    "msh.write('Fake_lake_clip15.mesh')   # save to a new file"
   ],
   "outputs": [],
   "metadata": {}
  },
  {
   "cell_type": "markdown",
   "source": [
    "See the [MIKE IO Mesh Example notebook](https://nbviewer.jupyter.org/github/DHI/mikeio/blob/main/notebooks/Mesh.ipynb) for more Mesh operations (including shapely operations)."
   ],
   "metadata": {}
  }
 ],
 "metadata": {
  "orig_nbformat": 4,
  "language_info": {
   "name": "python",
   "version": "3.9.6",
   "mimetype": "text/x-python",
   "codemirror_mode": {
    "name": "ipython",
    "version": 3
   },
   "pygments_lexer": "ipython3",
   "nbconvert_exporter": "python",
   "file_extension": ".py"
  },
  "kernelspec": {
   "name": "python3",
   "display_name": "Python 3.9.6 64-bit"
  },
  "interpreter": {
   "hash": "f4041ee05ab07c15354d6207e763f17a216c3f5ccf08906343c2b4fd3fa7a6fb"
  }
 },
 "nbformat": 4,
 "nbformat_minor": 2
}