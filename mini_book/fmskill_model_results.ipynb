{
 "cells": [
  {
   "cell_type": "markdown",
   "source": [
    "# Model results"
   ],
   "metadata": {}
  },
  {
   "cell_type": "markdown",
   "source": [
    "FMskill does skill assessment of model results. The model results can be stored in different ways. FMskill currently supports the following [ModelResult](https://dhi.github.io/fmskill/api.html#fmskill.model.ModelResult): \n",
    "\n",
    "* dfs\n",
    "    * dfs0 \n",
    "    * dfsu \n",
    "* NetCDF (and similar) with xarray\n",
    "* pandas DataFrame\n",
    "\n",
    "Note: dfs2 are not currently supported. Let us know if you would like to collaborate on adding support for it.\n",
    "\n",
    "## Point, track and area model results\n",
    "\n",
    "The above formats come in three different forms: \n",
    "\n",
    "* point (dfs0 and pandas)\n",
    "* track (dfs0 and pandas)\n",
    "* area (dfsu and xarray)\n",
    "\n",
    "Area model results require FMskill to extract data from the dfsu/netcdf file before the comparison can be done. \n",
    "\n",
    "## ModelResult class\n",
    "\n",
    "All ModelResult objects in FMskill, regardless of the input type and form, are created with \n",
    "\n",
    "    >>> mr = ModelResult(input)\n",
    "\n",
    "where input can be a file path or a DataFrame.  "
   ],
   "metadata": {}
  },
  {
   "cell_type": "code",
   "execution_count": null,
   "source": [
    "from fmskill import ModelResult"
   ],
   "outputs": [],
   "metadata": {}
  },
  {
   "cell_type": "markdown",
   "source": [
    "## Items\n",
    "\n",
    "The ModelResult can hold multiple items, but before it can be compared to observations a single item must be selected. This can be done upon creation of the ModelResult object or later with a syntax equivalent to pandas and xarray: \n",
    "\n",
    "    >>> mr[item]\n",
    "\n",
    "where item can be an integer or a string. "
   ],
   "metadata": {}
  },
  {
   "cell_type": "markdown",
   "source": [
    "## Common properties\n",
    "\n",
    "ModelResult\n",
    "\n",
    "* start_time\n",
    "* end_time\n",
    "* item_names\n",
    "\n",
    "ModelResultItem\n",
    "\n",
    "* start_time\n",
    "* end_time\n",
    "* item_name"
   ],
   "metadata": {}
  },
  {
   "cell_type": "markdown",
   "source": [
    "## dfsu\n",
    "\n",
    "dfs files are handled by MIKE IO"
   ],
   "metadata": {}
  },
  {
   "cell_type": "code",
   "execution_count": null,
   "source": [
    "fn = 'data/SW/HKZN_local_2017_DutchCoast.dfsu'\n",
    "mr1 = ModelResult(fn, name=\"SW\")\n",
    "mr1"
   ],
   "outputs": [],
   "metadata": {}
  },
  {
   "cell_type": "code",
   "execution_count": null,
   "source": [
    "mr1.dfs    # this is the MIKE IO Dfsu object"
   ],
   "outputs": [],
   "metadata": {}
  },
  {
   "cell_type": "markdown",
   "source": [
    "Select a single item either by index or name"
   ],
   "metadata": {}
  },
  {
   "cell_type": "code",
   "execution_count": null,
   "source": [
    "mr1['Peak Wave Period']"
   ],
   "outputs": [],
   "metadata": {}
  },
  {
   "cell_type": "markdown",
   "source": [
    "## NetCDF\n",
    "\n",
    "NetCDF files are handled by xarray. "
   ],
   "metadata": {}
  },
  {
   "cell_type": "code",
   "execution_count": null,
   "source": [
    "fn = 'data/SW/ERA5_DutchCoast.nc'\n",
    "mr2 = ModelResult(fn, 'ERA5')\n",
    "mr2"
   ],
   "outputs": [],
   "metadata": {}
  },
  {
   "cell_type": "code",
   "execution_count": null,
   "source": [
    "mr2.ds    # this is the xarray Dataset object"
   ],
   "outputs": [],
   "metadata": {}
  },
  {
   "cell_type": "code",
   "execution_count": null,
   "source": [],
   "outputs": [],
   "metadata": {}
  }
 ],
 "metadata": {
  "orig_nbformat": 4,
  "language_info": {
   "name": "python",
   "version": "3.8.10",
   "mimetype": "text/x-python",
   "codemirror_mode": {
    "name": "ipython",
    "version": 3
   },
   "pygments_lexer": "ipython3",
   "nbconvert_exporter": "python",
   "file_extension": ".py"
  },
  "kernelspec": {
   "name": "python3",
   "display_name": "Python 3.8.10 64-bit ('base': conda)"
  },
  "interpreter": {
   "hash": "fa576ebcd40e010bdc0ae86b06ce09151f3424f9e9aed6893ff04f39a9299d89"
  }
 },
 "nbformat": 4,
 "nbformat_minor": 2
}