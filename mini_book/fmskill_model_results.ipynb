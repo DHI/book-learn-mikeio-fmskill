{
 "cells": [
  {
   "cell_type": "markdown",
   "source": [
    "# FMskill model result"
   ],
   "metadata": {}
  },
  {
   "cell_type": "markdown",
   "source": [
    "FMskill does skill assessment of model results. The model results can be stored in different ways. FMskill currently supports the following [ModelResult](): \r\n",
    "\r\n",
    "* dfs\r\n",
    "    * dfs0 \r\n",
    "    * dfsu \r\n",
    "* NetCDF (and similar) with xarray\r\n",
    "* pandas DataFrame\r\n",
    "\r\n",
    "Note: dfs2 are not currently supported. Let us know if you would like to collaborate on adding support for it.\r\n",
    "\r\n",
    "## Point, track and area model results\r\n",
    "\r\n",
    "The above formats come in three different forms: \r\n",
    "\r\n",
    "* point (dfs0 and pandas)\r\n",
    "* track (dfs0 and pandas)\r\n",
    "* area (dfsu and xarray)\r\n",
    "\r\n",
    "Area model results require FMskill to extract data from the dfsu/netcdf file before the comparison can be done. \r\n",
    "\r\n",
    "## ModelResult class\r\n",
    "\r\n",
    "All ModelResult objects in FMskill, regardless of the input type and form, are created with \r\n",
    "\r\n",
    "    >>> mr = ModelResult(input)\r\n",
    "\r\n",
    "where input can be a file path or a DataFrame.  "
   ],
   "metadata": {}
  },
  {
   "cell_type": "code",
   "execution_count": null,
   "source": [
    "from fmskill import ModelResult"
   ],
   "outputs": [],
   "metadata": {}
  },
  {
   "cell_type": "markdown",
   "source": [
    "## Items\r\n",
    "\r\n",
    "The ModelResult can hold multiple items, but before it can be compared to observations a single item must be selected. This can be done upon creation of the ModelResult object or later with a syntax equivalent to pandas and xarray: \r\n",
    "\r\n",
    "    >>> mr[item]\r\n",
    "\r\n",
    "where item can be an integer or a string. "
   ],
   "metadata": {}
  },
  {
   "cell_type": "markdown",
   "source": [
    "## Common properties\r\n",
    "\r\n",
    "ModelResult\r\n",
    "\r\n",
    "* start_time\r\n",
    "* end_time\r\n",
    "* item_names\r\n",
    "\r\n",
    "ModelResultItem\r\n",
    "\r\n",
    "* start_time\r\n",
    "* end_time\r\n",
    "* item_name"
   ],
   "metadata": {}
  },
  {
   "cell_type": "markdown",
   "source": [
    "## dfsu\r\n",
    "\r\n",
    "dfs files are handled by MIKE IO"
   ],
   "metadata": {}
  },
  {
   "cell_type": "code",
   "execution_count": null,
   "source": [
    "fn = 'data/SW/HKZN_local_2017_DutchCoast.dfsu'\r\n",
    "mr1 = ModelResult(fn, name=\"SW\")\r\n",
    "mr1"
   ],
   "outputs": [],
   "metadata": {}
  },
  {
   "cell_type": "code",
   "execution_count": null,
   "source": [
    "mr1.dfs    # this is the MIKE IO Dfsu object"
   ],
   "outputs": [],
   "metadata": {}
  },
  {
   "cell_type": "markdown",
   "source": [
    "Select a single item either by index or name"
   ],
   "metadata": {}
  },
  {
   "cell_type": "code",
   "execution_count": null,
   "source": [
    "mr1['Peak Wave Period']"
   ],
   "outputs": [],
   "metadata": {}
  },
  {
   "cell_type": "markdown",
   "source": [
    "## NetCDF\r\n",
    "\r\n",
    "NetCDF files are handled by xarray. "
   ],
   "metadata": {}
  },
  {
   "cell_type": "code",
   "execution_count": null,
   "source": [
    "fn = 'data/SW/ERA5_DutchCoast.nc'\r\n",
    "mr2 = ModelResult(fn, 'ERA5')\r\n",
    "mr2"
   ],
   "outputs": [],
   "metadata": {}
  },
  {
   "cell_type": "code",
   "execution_count": null,
   "source": [
    "mr2.ds    # this is the xarray Dataset object"
   ],
   "outputs": [],
   "metadata": {}
  },
  {
   "cell_type": "code",
   "execution_count": null,
   "source": [],
   "outputs": [],
   "metadata": {}
  }
 ],
 "metadata": {
  "orig_nbformat": 4,
  "language_info": {
   "name": "python",
   "version": "3.8.10",
   "mimetype": "text/x-python",
   "codemirror_mode": {
    "name": "ipython",
    "version": 3
   },
   "pygments_lexer": "ipython3",
   "nbconvert_exporter": "python",
   "file_extension": ".py"
  },
  "kernelspec": {
   "name": "python3",
   "display_name": "Python 3.8.10 64-bit ('base': conda)"
  },
  "interpreter": {
   "hash": "fa576ebcd40e010bdc0ae86b06ce09151f3424f9e9aed6893ff04f39a9299d89"
  }
 },
 "nbformat": 4,
 "nbformat_minor": 2
}