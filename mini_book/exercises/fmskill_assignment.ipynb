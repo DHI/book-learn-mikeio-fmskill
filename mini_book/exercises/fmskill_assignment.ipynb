{
 "cells": [
  {
   "cell_type": "markdown",
   "source": [
    "# FMskill assignment\r\n",
    "\r\n",
    "[In development]"
   ],
   "metadata": {}
  }
 ],
 "metadata": {
  "orig_nbformat": 4,
  "language_info": {
   "name": "python"
  }
 },
 "nbformat": 4,
 "nbformat_minor": 2
}