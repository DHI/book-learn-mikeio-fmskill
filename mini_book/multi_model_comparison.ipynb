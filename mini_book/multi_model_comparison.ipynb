{
 "metadata": {
  "language_info": {
   "codemirror_mode": {
    "name": "ipython",
    "version": 3
   },
   "file_extension": ".py",
   "mimetype": "text/x-python",
   "name": "python",
   "nbconvert_exporter": "python",
   "pygments_lexer": "ipython3",
   "version": "3.8.10"
  },
  "orig_nbformat": 2,
  "kernelspec": {
   "name": "python3",
   "display_name": "Python 3.8.10 64-bit ('base': conda)"
  },
  "interpreter": {
   "hash": "fa576ebcd40e010bdc0ae86b06ce09151f3424f9e9aed6893ff04f39a9299d89"
  }
 },
 "nbformat": 4,
 "nbformat_minor": 2,
 "cells": [
  {
   "cell_type": "markdown",
   "source": [
    "# Multi model comparison\r\n",
    "\r\n",
    "We often want to compare the result of multiple models. \r\n",
    "\r\n",
    "**Calibration**. We have several \"runs\" of the same model with different settings. We would like to find the best. \r\n",
    "\r\n",
    "**Validation**. We would like to compare our model with alternative models, e.g. a regional DHI model or an external model. \r\n",
    "\r\n",
    "In this notebook, we will consider several wave models for the Southern North Sea and compare to both point measurements and satellite altimetry data. \r\n"
   ],
   "metadata": {}
  },
  {
   "cell_type": "code",
   "execution_count": null,
   "source": [
    "import numpy as np\r\n",
    "from fmskill import ModelResult\r\n",
    "from fmskill import PointObservation, TrackObservation, Connector"
   ],
   "outputs": [],
   "metadata": {}
  },
  {
   "cell_type": "markdown",
   "source": [
    "## Define observations"
   ],
   "metadata": {}
  },
  {
   "cell_type": "code",
   "execution_count": null,
   "source": [
    "o1 = PointObservation('data/SW/HKNA_Hm0.dfs0', item=0, x=4.2420, y=52.6887, name=\"HKNA\")\r\n",
    "o2 = PointObservation(\"data/SW/eur_Hm0.dfs0\", item=0, x=3.2760, y=51.9990, name=\"EPL\")\r\n",
    "o3 = TrackObservation(\"data/SW/Alti_c2_Dutch.dfs0\", item=3, name=\"c2\")"
   ],
   "outputs": [],
   "metadata": {}
  },
  {
   "cell_type": "markdown",
   "source": [
    "## Define models"
   ],
   "metadata": {}
  },
  {
   "cell_type": "code",
   "execution_count": null,
   "source": [
    "mr1 = ModelResult('data/SW/HKZN_local_2017_DutchCoast.dfsu', name='SW_1', item=0)\r\n",
    "mr2 = ModelResult('data/SW/HKZN_local_2017_DutchCoast_v2.dfsu', name='SW_2', item=0)\r\n",
    "mr3 = ModelResult('data/SW/ERA5_DutchCoast.nc', name='ERA5', item=\"swh\")"
   ],
   "outputs": [],
   "metadata": {}
  },
  {
   "cell_type": "markdown",
   "source": [
    "## Connect observations and model results"
   ],
   "metadata": {}
  },
  {
   "cell_type": "code",
   "execution_count": null,
   "source": [
    "con = Connector([o1, o2, o3], [mr1, mr2, mr3])\r\n",
    "con"
   ],
   "outputs": [],
   "metadata": {}
  },
  {
   "cell_type": "code",
   "execution_count": null,
   "source": [
    "con.modelresults"
   ],
   "outputs": [],
   "metadata": {}
  },
  {
   "cell_type": "code",
   "execution_count": null,
   "source": [
    "con.plot_observation_positions();"
   ],
   "outputs": [],
   "metadata": {}
  },
  {
   "cell_type": "code",
   "execution_count": null,
   "source": [
    "con.plot_temporal_coverage();"
   ],
   "outputs": [],
   "metadata": {}
  },
  {
   "cell_type": "code",
   "execution_count": null,
   "source": [
    "cc = con.extract()    # returns a collection of comparisons"
   ],
   "outputs": [],
   "metadata": {}
  },
  {
   "cell_type": "code",
   "execution_count": null,
   "source": [
    "cc[\"EPL\"]   # select a single comparer from the collection like this"
   ],
   "outputs": [],
   "metadata": {}
  },
  {
   "cell_type": "markdown",
   "source": [
    "## Perform analysis\n",
    "You can perform simple filtering on specific `observation` or specific `model`. You can refer to observations and models using their _name_ or _index_. \n",
    "\n",
    "The main analysis methods are:\n",
    "* skill()\n",
    "* mean_skill()\n",
    "* scatter()\n",
    "* taylor()"
   ],
   "metadata": {}
  },
  {
   "cell_type": "code",
   "execution_count": null,
   "source": [
    "cc.skill()"
   ],
   "outputs": [],
   "metadata": {}
  },
  {
   "cell_type": "code",
   "execution_count": null,
   "source": [
    "cc.skill(observation=\"c2\")"
   ],
   "outputs": [],
   "metadata": {}
  },
  {
   "cell_type": "code",
   "execution_count": null,
   "source": [
    "cc.mean_skill(model=0, observation=[0,\"c2\"])"
   ],
   "outputs": [],
   "metadata": {}
  },
  {
   "cell_type": "code",
   "execution_count": null,
   "source": [
    "cc.scatter(model='SW_1', cmap='OrRd')"
   ],
   "outputs": [],
   "metadata": {}
  },
  {
   "cell_type": "code",
   "execution_count": null,
   "source": [
    "cc.taylor(normalize_std=True, aggregate_observations=False)"
   ],
   "outputs": [],
   "metadata": {}
  },
  {
   "cell_type": "markdown",
   "source": [
    "### Time series plot (specifically for point comparisons)\n",
    "If you select an comparison from the collection which is a PointComparer, you can do a time series plot"
   ],
   "metadata": {}
  },
  {
   "cell_type": "code",
   "execution_count": null,
   "source": [
    "cc['EPL'].plot_timeseries(figsize=(12,4));"
   ],
   "outputs": [],
   "metadata": {}
  },
  {
   "cell_type": "markdown",
   "source": [
    "## Filtering on time\n",
    "Use the `start` and `end` arguments to do your analysis on part of the time series"
   ],
   "metadata": {}
  },
  {
   "cell_type": "code",
   "execution_count": null,
   "source": [
    "cc.skill(model=\"SW_1\", end='2017-10-28')"
   ],
   "outputs": [],
   "metadata": {}
  },
  {
   "cell_type": "code",
   "execution_count": null,
   "source": [
    "cc.scatter(model='SW_2', start='2017-10-28', cmap='OrRd', figsize=(6,7))"
   ],
   "outputs": [],
   "metadata": {}
  },
  {
   "cell_type": "markdown",
   "source": [
    "## Filtering on area\n",
    "You can do you analysis in a specific `area` by providing a bounding box or a closed polygon"
   ],
   "metadata": {}
  },
  {
   "cell_type": "code",
   "execution_count": null,
   "source": [
    "bbox = np.array([0.5,52.5,5,54])\r\n",
    "polygon = np.array([[6,51],[0,55],[0,51],[6,51]])"
   ],
   "outputs": [],
   "metadata": {}
  },
  {
   "cell_type": "code",
   "execution_count": null,
   "source": [
    "ax = con.plot_observation_positions();\r\n",
    "ax.plot([bbox[0],bbox[2],bbox[2],bbox[0],bbox[0]],[bbox[1],bbox[1],bbox[3],bbox[3],bbox[1]]);\r\n",
    "ax.plot(polygon[:,0],polygon[:,1]);"
   ],
   "outputs": [],
   "metadata": {}
  },
  {
   "cell_type": "code",
   "execution_count": null,
   "source": [
    "cc.skill(model=\"SW_1\", area=bbox)"
   ],
   "outputs": [],
   "metadata": {}
  },
  {
   "cell_type": "code",
   "execution_count": null,
   "source": [
    "cc.scatter(model=\"SW_2\", area=polygon) # , backend='plotly'"
   ],
   "outputs": [],
   "metadata": {}
  },
  {
   "cell_type": "markdown",
   "source": [
    "## Skill object\n",
    "\n",
    "The skill() and mean_skill() methods return a skill object that can visualize results in various ways. The primary methods of the skill object are:\n",
    "\n",
    "* style()\n",
    "* plot_bar()\n",
    "* plot_line()\n",
    "* plot_grid()\n",
    "* sel()"
   ],
   "metadata": {}
  },
  {
   "cell_type": "code",
   "execution_count": null,
   "source": [
    "s = cc.skill()"
   ],
   "outputs": [],
   "metadata": {}
  },
  {
   "cell_type": "code",
   "execution_count": null,
   "source": [
    "s.style()"
   ],
   "outputs": [],
   "metadata": {}
  },
  {
   "cell_type": "code",
   "execution_count": null,
   "source": [
    "s.style(columns='rmse')"
   ],
   "outputs": [],
   "metadata": {}
  },
  {
   "cell_type": "code",
   "execution_count": null,
   "source": [
    "s.plot_bar('rmse');"
   ],
   "outputs": [],
   "metadata": {}
  },
  {
   "cell_type": "code",
   "execution_count": null,
   "source": [
    "s = cc.skill(by=['model','freq:12H'], metrics=['bias','rmse','si'])"
   ],
   "outputs": [],
   "metadata": {}
  },
  {
   "cell_type": "code",
   "execution_count": null,
   "source": [
    "s.style()"
   ],
   "outputs": [],
   "metadata": {}
  },
  {
   "cell_type": "code",
   "execution_count": null,
   "source": [
    "s.plot_line('rmse', title='Hm0 rmse [m]');"
   ],
   "outputs": [],
   "metadata": {}
  },
  {
   "cell_type": "code",
   "execution_count": null,
   "source": [
    "s.plot_grid('si', fmt='0.1%', title='Hm0 Scatter index');"
   ],
   "outputs": [],
   "metadata": {}
  },
  {
   "cell_type": "markdown",
   "source": [
    "### The sel() method can subset the skill object \n",
    "\n",
    "A new skill object will be returned"
   ],
   "metadata": {}
  },
  {
   "cell_type": "code",
   "execution_count": null,
   "source": [
    "s = cc.skill()\r\n",
    "s.style()"
   ],
   "outputs": [],
   "metadata": {}
  },
  {
   "cell_type": "code",
   "execution_count": null,
   "source": [
    "s.sel(model='SW_1').style()"
   ],
   "outputs": [],
   "metadata": {}
  },
  {
   "cell_type": "code",
   "execution_count": null,
   "source": [
    "s.sel(observation='HKNA').style()"
   ],
   "outputs": [],
   "metadata": {}
  },
  {
   "cell_type": "code",
   "execution_count": null,
   "source": [
    "s.sel('rmse>0.25').style()"
   ],
   "outputs": [],
   "metadata": {}
  },
  {
   "cell_type": "code",
   "execution_count": null,
   "source": [
    "s.sel('rmse>0.3', columns=['rmse','mae']).style()"
   ],
   "outputs": [],
   "metadata": {}
  },
  {
   "cell_type": "code",
   "execution_count": null,
   "source": [],
   "outputs": [],
   "metadata": {}
  }
 ]
}