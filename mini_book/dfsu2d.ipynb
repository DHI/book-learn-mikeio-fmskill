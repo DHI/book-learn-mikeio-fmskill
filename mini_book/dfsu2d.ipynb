{
 "cells": [
  {
   "cell_type": "markdown",
   "source": [
    "# Dfsu 2D\r\n",
    "\r\n",
    "2D horizontal\r\n"
   ],
   "metadata": {}
  },
  {
   "cell_type": "code",
   "execution_count": null,
   "source": [
    "import pandas as pd\r\n",
    "import matplotlib.pyplot as plt\r\n",
    "from mikeio import Dfsu, Dataset, eum"
   ],
   "outputs": [],
   "metadata": {}
  },
  {
   "cell_type": "code",
   "execution_count": null,
   "source": [
    "fn = \"data/FakeLake.dfsu\"\r\n",
    "dfs = Dfsu(fn)\r\n",
    "dfs"
   ],
   "outputs": [],
   "metadata": {}
  },
  {
   "cell_type": "code",
   "execution_count": null,
   "source": [
    "dfs.plot();"
   ],
   "outputs": [],
   "metadata": {}
  },
  {
   "cell_type": "markdown",
   "source": [
    "## Create new dfsu from mesh"
   ],
   "metadata": {}
  },
  {
   "cell_type": "code",
   "execution_count": null,
   "source": [
    "fn = \"data/two_elements.mesh\"\r\n",
    "dfs = Dfsu(fn)"
   ],
   "outputs": [],
   "metadata": {}
  },
  {
   "cell_type": "code",
   "execution_count": null,
   "source": [
    "data = Dataset.create_empty_data(n_elements=dfs.n_elements, n_items=1, n_timesteps=1)\r\n",
    "time = pd.date_range(\"2020-1-1\", periods=1)      # arbitrary date \r\n",
    "items = [eum.ItemInfo(eum.EUMType.Chezy_No)]\r\n",
    "ds = Dataset(data=data, time=time, items=items)"
   ],
   "outputs": [],
   "metadata": {}
  },
  {
   "cell_type": "code",
   "execution_count": null,
   "source": [
    "ds.data[0][0,:] = 36.5    # set values of item 0, timestep 0"
   ],
   "outputs": [],
   "metadata": {}
  },
  {
   "cell_type": "code",
   "execution_count": null,
   "source": [
    "dfs.write(\"chezy_map.dfsu\", ds)"
   ],
   "outputs": [],
   "metadata": {}
  },
  {
   "cell_type": "code",
   "execution_count": null,
   "source": [
    "dfs = Dfsu(\"chezy_map.dfsu\")\r\n",
    "dfs.read()[0][0,:]"
   ],
   "outputs": [],
   "metadata": {}
  },
  {
   "cell_type": "code",
   "execution_count": null,
   "source": [],
   "outputs": [],
   "metadata": {}
  }
 ],
 "metadata": {
  "orig_nbformat": 4,
  "language_info": {
   "name": "python",
   "version": "3.8.10",
   "mimetype": "text/x-python",
   "codemirror_mode": {
    "name": "ipython",
    "version": 3
   },
   "pygments_lexer": "ipython3",
   "nbconvert_exporter": "python",
   "file_extension": ".py"
  },
  "kernelspec": {
   "name": "python3",
   "display_name": "Python 3.8.10 64-bit ('base': conda)"
  },
  "interpreter": {
   "hash": "fa576ebcd40e010bdc0ae86b06ce09151f3424f9e9aed6893ff04f39a9299d89"
  }
 },
 "nbformat": 4,
 "nbformat_minor": 2
}