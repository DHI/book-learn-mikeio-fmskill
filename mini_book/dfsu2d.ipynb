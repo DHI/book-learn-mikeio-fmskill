{
 "cells": [
  {
   "cell_type": "markdown",
   "source": [
    "# Dfsu 2D\n",
    "\n",
    "2D horizontal. \n",
    "\n",
    "See [Dfsu in MIKE IO Documentation](https://dhi.github.io/mikeio/dfsu.html)\n"
   ],
   "metadata": {}
  },
  {
   "cell_type": "code",
   "execution_count": null,
   "source": [
    "import numpy as np\n",
    "import pandas as pd\n",
    "import matplotlib.pyplot as plt\n",
    "from mikeio import Dfsu, Dataset, eum"
   ],
   "outputs": [],
   "metadata": {}
  },
  {
   "cell_type": "markdown",
   "source": [
    "## Basic properties"
   ],
   "metadata": {}
  },
  {
   "cell_type": "markdown",
   "source": [
    ":::{note}\n",
    "Example data can be found in the `mini_book/data` folder in this [zip-file](https://github.com/DHI/book-learn-mikeio-fmskill/archive/refs/heads/main.zip).\n",
    ":::"
   ],
   "metadata": {}
  },
  {
   "cell_type": "code",
   "execution_count": null,
   "source": [
    "fn = \"data/oresundHD_run1.dfsu\"\n",
    "dfs = Dfsu(fn)\n",
    "dfs"
   ],
   "outputs": [],
   "metadata": {}
  },
  {
   "cell_type": "code",
   "execution_count": null,
   "source": [
    "dfs.plot(show_mesh=False);"
   ],
   "outputs": [],
   "metadata": {}
  },
  {
   "cell_type": "code",
   "execution_count": null,
   "source": [
    "dfs.n_items"
   ],
   "outputs": [],
   "metadata": {}
  },
  {
   "cell_type": "code",
   "execution_count": null,
   "source": [
    "dfs.projection_string"
   ],
   "outputs": [],
   "metadata": {}
  },
  {
   "cell_type": "code",
   "execution_count": null,
   "source": [
    "dfs.timestep"
   ],
   "outputs": [],
   "metadata": {}
  },
  {
   "cell_type": "code",
   "execution_count": null,
   "source": [
    "ds = dfs.read(items=\"Surface elevation\")\n",
    "ds.shape"
   ],
   "outputs": [],
   "metadata": {}
  },
  {
   "cell_type": "code",
   "execution_count": null,
   "source": [
    "dfs.plot(z=ds[0][-1,:], label=\"Surface elevation [m]\", show_mesh=False);"
   ],
   "outputs": [],
   "metadata": {}
  },
  {
   "cell_type": "markdown",
   "source": [
    "### Subset data"
   ],
   "metadata": {}
  },
  {
   "cell_type": "code",
   "execution_count": null,
   "source": [
    "ze = dfs.element_coordinates[:,2]    # third column is depth\n",
    "ze<-20"
   ],
   "outputs": [],
   "metadata": {}
  },
  {
   "cell_type": "code",
   "execution_count": null,
   "source": [
    "elems = np.where(ze<-20)[0]\n",
    "ds_sub = dfs.read(items=0, time_steps=-1, elements=elems)    # read only data where depth is more than 20m\n",
    "ds_sub"
   ],
   "outputs": [],
   "metadata": {}
  },
  {
   "cell_type": "code",
   "execution_count": null,
   "source": [
    "dfs.plot(ds_sub[0][0,:], elements=elems);"
   ],
   "outputs": [],
   "metadata": {}
  },
  {
   "cell_type": "markdown",
   "source": [
    "## Create new dfsu from mesh"
   ],
   "metadata": {}
  },
  {
   "cell_type": "code",
   "execution_count": null,
   "source": [
    "fn = \"data/two_elements.mesh\"\n",
    "dfs = Dfsu(fn)"
   ],
   "outputs": [],
   "metadata": {}
  },
  {
   "cell_type": "code",
   "execution_count": null,
   "source": [
    "data = Dataset.create_empty_data(n_elements=dfs.n_elements, n_items=1, n_timesteps=1)\n",
    "time = pd.date_range(\"2020-1-1\", periods=1)      # arbitrary date \n",
    "items = [eum.ItemInfo(eum.EUMType.Chezy_No)]\n",
    "ds = Dataset(data=data, time=time, items=items)"
   ],
   "outputs": [],
   "metadata": {}
  },
  {
   "cell_type": "code",
   "execution_count": null,
   "source": [
    "ds.data[0][0,:] = 36.5    # set values of item 0, timestep 0"
   ],
   "outputs": [],
   "metadata": {}
  },
  {
   "cell_type": "code",
   "execution_count": null,
   "source": [
    "dfs.write(\"chezy_map.dfsu\", ds)"
   ],
   "outputs": [],
   "metadata": {}
  },
  {
   "cell_type": "code",
   "execution_count": null,
   "source": [
    "dfs = Dfsu(\"chezy_map.dfsu\")\n",
    "dfs.read()[0][0,:]"
   ],
   "outputs": [],
   "metadata": {}
  },
  {
   "cell_type": "markdown",
   "source": [
    "## More examples\n",
    "\n",
    "See the [MIKE IO example notebooks](https://nbviewer.jupyter.org/github/DHI/mikeio/tree/main/notebooks/) which has \"dfsu\" in the name.\n",
    "\n"
   ],
   "metadata": {}
  },
  {
   "cell_type": "markdown",
   "source": [],
   "metadata": {}
  }
 ],
 "metadata": {
  "orig_nbformat": 4,
  "language_info": {
   "name": "python",
   "version": "3.8.10",
   "mimetype": "text/x-python",
   "codemirror_mode": {
    "name": "ipython",
    "version": 3
   },
   "pygments_lexer": "ipython3",
   "nbconvert_exporter": "python",
   "file_extension": ".py"
  },
  "kernelspec": {
   "name": "python3",
   "display_name": "Python 3.8.10 64-bit ('base': conda)"
  },
  "interpreter": {
   "hash": "fa576ebcd40e010bdc0ae86b06ce09151f3424f9e9aed6893ff04f39a9299d89"
  }
 },
 "nbformat": 4,
 "nbformat_minor": 2
}