{
 "cells": [
  {
   "cell_type": "markdown",
   "source": [
    "# Exercise: Basic model skill"
   ],
   "metadata": {}
  },
  {
   "cell_type": "code",
   "execution_count": null,
   "source": [
    "import fmskill"
   ],
   "outputs": [],
   "metadata": {}
  },
  {
   "cell_type": "markdown",
   "source": [
    "You want do to a simple comparison between model and observation using the fmskill.compare method, but the following code snippet doesn't work.\n",
    "\n",
    "Change the code below, so that it works as intended. Hint: look at the documentation\n",
    "```\n",
    "help(fmskill.compare)\n",
    "```"
   ],
   "metadata": {}
  },
  {
   "cell_type": "code",
   "execution_count": null,
   "source": [
    "fn_mod = '../data/SW/ts_storm_4.dfs0'\n",
    "fn_obs = '../data/SW/eur_Hm0.dfs0'\n",
    "\n",
    "c = fmskill.compare(fn_obs, fn_mod)"
   ],
   "outputs": [],
   "metadata": {}
  },
  {
   "cell_type": "markdown",
   "source": [
    "When you have fixed the above snippet, you can continue to do the skill assessment"
   ],
   "metadata": {}
  },
  {
   "cell_type": "code",
   "execution_count": null,
   "source": [
    "# plot a timeseries of the comparison\n",
    "# * remove the default title\n",
    "# * set the limits of the y axis to cover the 0-6m interval"
   ],
   "outputs": [],
   "metadata": {}
  },
  {
   "cell_type": "markdown",
   "source": [
    "Your colleague, who is very skilled at Excel, wants to make a plot like this one:\n",
    "\n",
    "![](../images/excel_chart.png)"
   ],
   "metadata": {}
  },
  {
   "cell_type": "code",
   "execution_count": null,
   "source": [
    "# Use the .df property on the comparer object to save the obs and model timeseries as an Excel file (\"skill.xlsx\")\n",
    "# you might get an error \"No module named 'openpyxl'\", the solution is to run `pip install openpyxl`"
   ],
   "outputs": [],
   "metadata": {}
  },
  {
   "cell_type": "code",
   "execution_count": null,
   "source": [
    "# calculate the default skill metrics using the skill method\n"
   ],
   "outputs": [],
   "metadata": {}
  },
  {
   "cell_type": "code",
   "execution_count": 20,
   "source": [
    "# calculate the skill using the mean absolute percentage error and max error, use the metrics argument\n",
    "# c.skill(metrics=[__,__])"
   ],
   "outputs": [],
   "metadata": {}
  },
  {
   "cell_type": "code",
   "execution_count": null,
   "source": [
    "# import the hit_ratio metric from fmskill.metrics\n",
    "# and calculate the ratio when the deviation between model and observation is less than 0.5 m\n",
    "# hint: use the Observation and Model columns of the dataframe from the .df property you used above\n",
    "\n",
    "# is the hit ratio ~0.95 ? Does it match with your expectation based on the timeseries plot?\n",
    "# what about a deviation of less than 0.1m? Pretty accurate wave model..."
   ],
   "outputs": [],
   "metadata": {}
  },
  {
   "cell_type": "code",
   "execution_count": null,
   "source": [
    "# hit_ratio(c.df.Observation, __, a=__)"
   ],
   "outputs": [],
   "metadata": {}
  },
  {
   "cell_type": "code",
   "execution_count": null,
   "source": [
    "# compare the distribution of modelled and observed values, using the .hist method\n",
    "# change the number of bins to 10"
   ],
   "outputs": [],
   "metadata": {}
  }
 ],
 "metadata": {
  "orig_nbformat": 4,
  "language_info": {
   "name": "python",
   "version": "3.9.6",
   "mimetype": "text/x-python",
   "codemirror_mode": {
    "name": "ipython",
    "version": 3
   },
   "pygments_lexer": "ipython3",
   "nbconvert_exporter": "python",
   "file_extension": ".py"
  },
  "kernelspec": {
   "name": "python3",
   "display_name": "Python 3.9.6 64-bit"
  },
  "interpreter": {
   "hash": "f4041ee05ab07c15354d6207e763f17a216c3f5ccf08906343c2b4fd3fa7a6fb"
  }
 },
 "nbformat": 4,
 "nbformat_minor": 2
}