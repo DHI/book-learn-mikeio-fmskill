{
 "cells": [
  {
   "cell_type": "markdown",
   "metadata": {},
   "source": [
    "# Final assignment"
   ]
  },
  {
   "cell_type": "markdown",
   "metadata": {},
   "source": [
    "The final assignment of the course is a fictive but realistic part of a 3D HD modelling project of the Baltic Sea.\n",
    "\n",
    "![](https://upload.wikimedia.org/wikipedia/commons/thumb/9/92/Baltic_Sea_map.png/287px-Baltic_Sea_map.png)\n",
    "\n",
    "Map from wikipedia.\n",
    "\n",
    "\n",
    "The client is an NGO focusing on environmental issues, and they are interesting in understanding the changes in suitability of the Baltic Sea for reproduction of cod (*Gadus Morhua*).\n",
    "\n",
    "The client can not do modelling themselves, but they have experience from other models, and know that it is non-trivial to model the hydrography of the Baltic Sea, with stratification caused by both temperature and salinity. This is why they want us to demonstrate that our model is able to capture the stratification, before they can trust that the model results can be used to quantify the environmental conditions for the cod.\n",
    "\n",
    "There are two main tasks:\n",
    "\n",
    "1. Qualitative validation of hydrographic vertical profiles in a central part of the Baltic Sea\n",
    "2. Calculation of the total area of suitable habitat for cod."
   ]
  },
  {
   "cell_type": "markdown",
   "metadata": {},
   "source": [
    "## 1. Hydrograhic profiles\n",
    "\n",
    "The client have downloaded hydrograpic observations from the national monitoring agency for a station located in the central Baltic Sea for the years 2017 & 2018.\n",
    "\n",
    "Station: BY5 (Gotland Deep)\n",
    "Latitude: 57.3N\n",
    "Longitude: 20.07E\n",
    "\n",
    "Easting (UTM-32): 1165460 (m)\n",
    "Nothing (UTM-32): 6406530 (m)\n",
    "\n",
    "The client have opened the file in Excel and it seems like the necessary observations are available in the dataset (along with a lot of other interesting data).\n",
    "\n",
    "![](../images/hydrography_excel.png)\n",
    "\n",
    "Our project manager have outlined the steps necessary to complete this task:\n",
    "\n",
    "1. Create a map of the model bathymetry where the location of the sampling station BY5 is clearly indicated\n",
    "2. Find 3d elements of water column closest to the station (x=1165460, y=6406530)\n",
    "3. Extract vertical profiles of temperature and salinity\n",
    "4. Visualize the modelled vertical profiles for the whole year (*not sure exactly how, use your best knowledge!*)\n",
    "5. Compare with measurement data for one sampling occasion in winter and one during summer\n",
    "\n",
    "Sketch of how a vertical profile model obs comparison could look like:\n",
    "\n",
    "![](../images/vertical_sketch.png)"
   ]
  },
  {
   "cell_type": "markdown",
   "metadata": {},
   "source": [
    "Below are some pandas code to get started on reading the observed data."
   ]
  },
  {
   "cell_type": "code",
   "execution_count": 18,
   "metadata": {},
   "outputs": [
    {
     "data": {
      "text/html": [
       "<div>\n",
       "<style scoped>\n",
       "    .dataframe tbody tr th:only-of-type {\n",
       "        vertical-align: middle;\n",
       "    }\n",
       "\n",
       "    .dataframe tbody tr th {\n",
       "        vertical-align: top;\n",
       "    }\n",
       "\n",
       "    .dataframe thead th {\n",
       "        text-align: right;\n",
       "    }\n",
       "</style>\n",
       "<table border=\"1\" class=\"dataframe\">\n",
       "  <thead>\n",
       "    <tr style=\"text-align: right;\">\n",
       "      <th></th>\n",
       "      <th>Sampling date</th>\n",
       "      <th>Sampling time (start)</th>\n",
       "    </tr>\n",
       "  </thead>\n",
       "  <tbody>\n",
       "    <tr>\n",
       "      <th>0</th>\n",
       "      <td>2017-12-16</td>\n",
       "      <td>08:00</td>\n",
       "    </tr>\n",
       "    <tr>\n",
       "      <th>1</th>\n",
       "      <td>2017-12-16</td>\n",
       "      <td>08:00</td>\n",
       "    </tr>\n",
       "    <tr>\n",
       "      <th>2</th>\n",
       "      <td>2017-12-16</td>\n",
       "      <td>08:00</td>\n",
       "    </tr>\n",
       "    <tr>\n",
       "      <th>3</th>\n",
       "      <td>2017-12-16</td>\n",
       "      <td>08:00</td>\n",
       "    </tr>\n",
       "    <tr>\n",
       "      <th>4</th>\n",
       "      <td>2017-12-16</td>\n",
       "      <td>08:00</td>\n",
       "    </tr>\n",
       "  </tbody>\n",
       "</table>\n",
       "</div>"
      ],
      "text/plain": [
       "  Sampling date Sampling time (start)\n",
       "0    2017-12-16                 08:00\n",
       "1    2017-12-16                 08:00\n",
       "2    2017-12-16                 08:00\n",
       "3    2017-12-16                 08:00\n",
       "4    2017-12-16                 08:00"
      ]
     },
     "execution_count": 18,
     "metadata": {},
     "output_type": "execute_result"
    }
   ],
   "source": [
    "import pandas as pd\n",
    "\n",
    "df = pd.read_csv(\"../data/final_assignment/hydrography_gotland_deep_2017.txt\", sep='\\t')\n",
    "df[['Sampling date', 'Sampling time (start)']].head()"
   ]
  },
  {
   "cell_type": "code",
   "execution_count": 19,
   "metadata": {},
   "outputs": [
    {
     "data": {
      "text/plain": [
       "array(['2017-01-09', '2017-02-10', '2017-03-15', '2017-04-24',\n",
       "       '2017-05-22', '2017-06-15', '2017-07-11', '2017-09-14',\n",
       "       '2017-11-11', '2017-12-16', '2018-01-28', '2018-04-18',\n",
       "       '2018-04-19', '2018-05-30', '2018-09-04', '2018-10-15',\n",
       "       '2018-11-09', '2018-12-05'], dtype=object)"
      ]
     },
     "execution_count": 19,
     "metadata": {},
     "output_type": "execute_result"
    }
   ],
   "source": [
    "df['Sampling date'].sort_values().unique()"
   ]
  },
  {
   "cell_type": "markdown",
   "metadata": {},
   "source": [
    "## 2. Area of suitable environmental conditions\n",
    "\n",
    "The second task is to visualize the suitable areas for cod reproduction.\n",
    "\n",
    "Cod eggs sink to the bottom and need a minium salinity of 10 PSU to remain bouyant and to survive. (A real project would also use the dissolved oxygen concentration). Cod spawning occurs in the spring, and we will use the mean value of April 2017 of the bottom layer salinity to visualize and quantify which parts of the Baltic Sea, that are potential areas for cod reproduction.\n",
    "\n",
    "Again, our dear project manager have outlined the steps necessary to complete this task:\n",
    "\n",
    "1. Get element ids of bottom elements\n",
    "2. Extract bottom layer salinity\n",
    "3. Find mean bottom layer salinity in april\n",
    "4. Find elements with mean salinity >= 10 (note: original vs bottom layer index)\n",
    "5. Create a plot where it is clearly indicated which parts of the Baltic Sea are suitable and which ones are not\n",
    "6. Calculate the total area in km2 of the elements which meet the salinity criteria\n",
    "7. What is the percentage of the bottom suitable for cod eggs?\n"
   ]
  },
  {
   "cell_type": "markdown",
   "metadata": {},
   "source": [
    "## Remarks\n",
    "\n",
    "Good luck, and remember:\n",
    "\n",
    "1. Get help from your learning team (this is what you would do in a real project, it is not cheating)\n",
    "2. If you get stuck, write in yammer\n",
    "3. Submit the assignment in time\n",
    "4. Review your peers solutions\n",
    "\n"
   ]
  },
  {
   "cell_type": "code",
   "execution_count": null,
   "metadata": {},
   "outputs": [],
   "source": []
  }
 ],
 "metadata": {
  "interpreter": {
   "hash": "f4041ee05ab07c15354d6207e763f17a216c3f5ccf08906343c2b4fd3fa7a6fb"
  },
  "kernelspec": {
   "display_name": "Python 3.9.6 64-bit",
   "name": "python3"
  },
  "language_info": {
   "codemirror_mode": {
    "name": "ipython",
    "version": 3
   },
   "file_extension": ".py",
   "mimetype": "text/x-python",
   "name": "python",
   "nbconvert_exporter": "python",
   "pygments_lexer": "ipython3",
   "version": "3.9.6"
  },
  "orig_nbformat": 4
 },
 "nbformat": 4,
 "nbformat_minor": 2
}
