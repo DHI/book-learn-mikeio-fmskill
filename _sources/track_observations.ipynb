{
 "cells": [
  {
   "cell_type": "markdown",
   "source": [
    "# Track observations\r\n",
    "\r\n",
    "Track observations are point observations for moving points. The index therefore consists of time, x- and y-positions. Altimetry data acquired from satellite is an example of track observations; data obtained from boat is another example. \r\n",
    "\r\n",
    "The track observation data may come from a file or web api. We will cover the following situations here: \r\n",
    "\r\n",
    "* File\r\n",
    "    - dfs0\r\n",
    "    - csv/excel\r\n",
    "* REST API\r\n",
    "\r\n",
    "FMskill has the class [TrackObservation](https://dhi.github.io/fmskill/api.html#fmskill.observation.TrackObservation) for working with track observations. \r\n",
    "\r\n",
    "Track observations consist of time-**position**-value (data) and *meta* data such as\r\n",
    "\r\n",
    "* data type (e.g. water level)\r\n",
    "* unit (e.g. meter)\r\n",
    "\r\n",
    "FMskill is agnostic to the coordinate reference system (CRS) and it is therefore the responsibility of the user to make sure that all data (observations and model) use the same CRS."
   ],
   "metadata": {}
  },
  {
   "cell_type": "code",
   "execution_count": 1,
   "source": [
    "from fmskill import TrackObservation\r\n",
    "from mikeio import eum"
   ],
   "outputs": [],
   "metadata": {}
  },
  {
   "cell_type": "markdown",
   "source": [
    "## Data from file"
   ],
   "metadata": {}
  },
  {
   "cell_type": "code",
   "execution_count": null,
   "source": [],
   "outputs": [],
   "metadata": {}
  },
  {
   "cell_type": "code",
   "execution_count": null,
   "source": [],
   "outputs": [],
   "metadata": {}
  },
  {
   "cell_type": "markdown",
   "source": [
    "## DHI Altimetry API\r\n",
    "\r\n",
    "See [Altimetry_data.ipynb](https://nbviewer.jupyter.org/github/DHI/fmskill/blob/main/notebooks/Altimetry_data.ipynb) example notebook.\r\n"
   ],
   "metadata": {}
  },
  {
   "cell_type": "code",
   "execution_count": 5,
   "source": [
    "import os\r\n",
    "from fmskill.data import DHIAltimetryRepository"
   ],
   "outputs": [],
   "metadata": {}
  },
  {
   "cell_type": "code",
   "execution_count": 6,
   "source": [
    "api_key = os.environ[\"DHI_ALTIMETRY_API_KEY\"]\r\n",
    "repo = DHIAltimetryRepository(api_key)"
   ],
   "outputs": [],
   "metadata": {}
  },
  {
   "cell_type": "code",
   "execution_count": 11,
   "source": [
    "repo.time_of_newest_data"
   ],
   "outputs": [
    {
     "output_type": "execute_result",
     "data": {
      "text/plain": [
       "Timestamp('2021-10-01 07:08:08')"
      ]
     },
     "metadata": {},
     "execution_count": 11
    }
   ],
   "metadata": {}
  },
  {
   "cell_type": "code",
   "execution_count": null,
   "source": [],
   "outputs": [],
   "metadata": {}
  }
 ],
 "metadata": {
  "orig_nbformat": 4,
  "language_info": {
   "name": "python",
   "version": "3.8.10",
   "mimetype": "text/x-python",
   "codemirror_mode": {
    "name": "ipython",
    "version": 3
   },
   "pygments_lexer": "ipython3",
   "nbconvert_exporter": "python",
   "file_extension": ".py"
  },
  "kernelspec": {
   "name": "python3",
   "display_name": "Python 3.8.10 64-bit ('base': conda)"
  },
  "interpreter": {
   "hash": "fa576ebcd40e010bdc0ae86b06ce09151f3424f9e9aed6893ff04f39a9299d89"
  }
 },
 "nbformat": 4,
 "nbformat_minor": 2
}