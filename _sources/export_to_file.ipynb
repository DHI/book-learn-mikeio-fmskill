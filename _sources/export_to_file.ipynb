{
 "cells": [
  {
   "cell_type": "markdown",
   "source": [
    "# Export to file\n",
    "\n",
    "[in development]"
   ],
   "metadata": {}
  },
  {
   "cell_type": "code",
   "execution_count": null,
   "source": [
    "from mikeio import Dfsu"
   ],
   "outputs": [],
   "metadata": {}
  }
 ],
 "metadata": {
  "orig_nbformat": 4,
  "language_info": {
   "name": "python"
  }
 },
 "nbformat": 4,
 "nbformat_minor": 2
}