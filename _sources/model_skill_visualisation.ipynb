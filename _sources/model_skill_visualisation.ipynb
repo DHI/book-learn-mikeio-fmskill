{
 "cells": [
  {
   "cell_type": "code",
   "execution_count": null,
   "source": [
    "from fmskill import PointObservation\n",
    "from fmskill import ModelResult, Connector"
   ],
   "outputs": [],
   "metadata": {}
  },
  {
   "cell_type": "markdown",
   "source": [
    "# Model skill visualisation"
   ],
   "metadata": {}
  },
  {
   "cell_type": "code",
   "execution_count": null,
   "source": [
    "fn = 'data/SW/HKZN_local_2017_DutchCoast.dfsu'\n",
    "mr = ModelResult(fn, name='HKZN_local', item=0)\n",
    "\n",
    "obs = [PointObservation('data/SW/HKZA_Hm0.dfs0', item=0, x=3.9, y=52.7, name=\"HKZA\"),\n",
    "       PointObservation('data/SW/HKZA_Hm0.dfs0', item=0, x=3.8, y=52.5, name=\"HKZA_2\"),\n",
    "       PointObservation('data/SW/HKZA_Hm0.dfs0', item=0, x=3.5, y=52.6, name=\"HKZA_3\"),\n",
    "       PointObservation('data/SW/HKNA_Hm0.dfs0', item=0, x=4.2420, y=52.6887, name=\"HKNA\"),\n",
    "       PointObservation('data/SW/HKNA_Hm0.dfs0', item=0, x=4.2, y=52.6, name=\"HKNA_2\"),\n",
    "       PointObservation('data/SW/HKNA_Hm0.dfs0', item=0, x=4.3, y=52.7, name=\"HKNA_3\"),\n",
    "       PointObservation(\"data/SW/eur_Hm0.dfs0\", item=0, x=3.2760, y=51.9990, name=\"EPL\"),\n",
    "       PointObservation(\"data/SW/eur_Hm0.dfs0\", item=0, x=3.2, y=51.9, name=\"EPL_2\"),\n",
    "       PointObservation(\"data/SW/eur_Hm0.dfs0\", item=0, x=3.3, y=51.95, name=\"EPL_3\")\n",
    "]\n",
    "\n",
    "con = Connector(obs, mr)\n",
    "cc = con.extract()"
   ],
   "outputs": [],
   "metadata": {}
  },
  {
   "cell_type": "code",
   "execution_count": null,
   "source": [
    "cc.skill()"
   ],
   "outputs": [],
   "metadata": {}
  },
  {
   "cell_type": "code",
   "execution_count": null,
   "source": [
    "s = cc.skill()\n",
    "type(s)"
   ],
   "outputs": [],
   "metadata": {}
  },
  {
   "cell_type": "code",
   "execution_count": null,
   "source": [
    "s.plot_bar('rmse')"
   ],
   "outputs": [],
   "metadata": {}
  },
  {
   "cell_type": "code",
   "execution_count": null,
   "source": [
    "s.plot_line('urmse')"
   ],
   "outputs": [],
   "metadata": {}
  },
  {
   "cell_type": "markdown",
   "source": [
    "## Custom plot\n",
    "\n",
    "All skill statistics are available in a dataframe, and in case you need a tailor-made plot, you can get data and use matplotlib to get exactly what you need."
   ],
   "metadata": {}
  },
  {
   "cell_type": "code",
   "execution_count": null,
   "source": [
    "import matplotlib.pyplot as plt"
   ],
   "outputs": [],
   "metadata": {}
  },
  {
   "cell_type": "code",
   "execution_count": null,
   "source": [
    "df = s.df.sort_values('bias')\n",
    "x = df.bias\n",
    "y = df.index"
   ],
   "outputs": [],
   "metadata": {}
  },
  {
   "cell_type": "code",
   "execution_count": null,
   "source": [
    "plt.subplots(figsize=(6,6))\n",
    "plt.scatter(x,y,marker='D',c='red',s=100)\n",
    "plt.xlim(-0.35,0.35)\n",
    "plt.axvline(0,linestyle='--')\n",
    "plt.xlabel(\"Bias (m)\")\n",
    "plt.title(mr.name)\n",
    "plt.grid()"
   ],
   "outputs": [],
   "metadata": {}
  }
 ],
 "metadata": {
  "orig_nbformat": 4,
  "language_info": {
   "name": "python",
   "version": "3.9.6",
   "mimetype": "text/x-python",
   "codemirror_mode": {
    "name": "ipython",
    "version": 3
   },
   "pygments_lexer": "ipython3",
   "nbconvert_exporter": "python",
   "file_extension": ".py"
  },
  "kernelspec": {
   "name": "python3",
   "display_name": "Python 3.9.6 64-bit"
  },
  "interpreter": {
   "hash": "f4041ee05ab07c15354d6207e763f17a216c3f5ccf08906343c2b4fd3fa7a6fb"
  }
 },
 "nbformat": 4,
 "nbformat_minor": 2
}