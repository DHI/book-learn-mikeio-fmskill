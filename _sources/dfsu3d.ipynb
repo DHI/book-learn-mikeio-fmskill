{
 "cells": [
  {
   "cell_type": "markdown",
   "metadata": {},
   "source": [
    "# Dfsu 3D\n",
    "\n",
    "Layered dfsu files comes in several different shapes:\n",
    "\n",
    "* 3D\n",
    "* 2D Vertical slice (transect)\n",
    "* 1D Vertical profile\n",
    "\n",
    "Two layer systems exist:\n",
    "\n",
    "* sigma (terrain and surface following coordinates)\n",
    "* sigma-z (sigma layers at the top and fixed z-layers at the bottom)\n",
    "\n",
    "In sigma-layered files, all columns has the same number of layers. In sigma-z files, the number of z-layers can be different for different columns.  \n",
    "\n",
    "Layered dfsu files have a \"hidden\" first dynamic item called \"zn\" with the (dynamic) z-positions of the nodes. \n",
    "\n",
    "Read the [MIKE IO dfsu documentation](https://dhi.github.io/mikeio/dfsu.html) for more info."
   ]
  },
  {
   "cell_type": "code",
   "execution_count": null,
   "metadata": {},
   "outputs": [],
   "source": [
    "import matplotlib.pyplot as plt\n",
    "from mikeio import Dfsu"
   ]
  },
  {
   "cell_type": "markdown",
   "metadata": {},
   "source": [
    "## 3D Sigma-z"
   ]
  },
  {
   "cell_type": "code",
   "execution_count": null,
   "metadata": {},
   "outputs": [],
   "source": [
    "filename = \"data/oresund_sigma_z.dfsu\"\n",
    "dfs = Dfsu(filename)\n",
    "dfs"
   ]
  },
  {
   "cell_type": "markdown",
   "metadata": {},
   "source": [
    "Apart from the normal dfsu properties, layered dfsu files have these properties: "
   ]
  },
  {
   "cell_type": "code",
   "execution_count": null,
   "metadata": {},
   "outputs": [],
   "source": [
    "print(f\"Maximum number of layers: {dfs.n_layers}\")\n",
    "print(f\"Number of sigma layers: {dfs.n_sigma_layers}\")\n",
    "print(f\"Maximum number of z-layers: {dfs.n_z_layers}\")\n",
    "print(f\"The layer number for each 3d element: {dfs.layer_ids}\")\n",
    "print(f\"List of 3d element ids of surface layer: {dfs.top_elements}\")\n",
    "print(f\"List of 3d element ids of bottom layer: {dfs.bottom_elements}\")\n",
    "print(f\"List of number of layers for each column: {dfs.n_layers_per_column}\")\n",
    "print(f\"The 2d-to-3d element connectivity table for a 3d object: {dfs.e2_e3_table[:3]} ...\")\n",
    "print(f\"The associated 2d element id for each 3d element: {dfs.elem2d_ids}\")"
   ]
  },
  {
   "cell_type": "markdown",
   "metadata": {},
   "source": [
    "The associated 2D geometry for a 3D file can be outputted in this way:"
   ]
  },
  {
   "cell_type": "code",
   "execution_count": null,
   "metadata": {},
   "outputs": [],
   "source": [
    "geom2d = dfs.geometry2d\n",
    "geom2d"
   ]
  },
  {
   "cell_type": "code",
   "execution_count": null,
   "metadata": {},
   "outputs": [],
   "source": [
    "geom2d.n_elements"
   ]
  },
  {
   "cell_type": "markdown",
   "metadata": {},
   "source": [
    "### Top layer of 3D file"
   ]
  },
  {
   "cell_type": "code",
   "execution_count": null,
   "metadata": {},
   "outputs": [],
   "source": [
    "elem_ids = dfs.top_elements\n",
    "ds = dfs.read(elements=elem_ids)\n",
    "print(ds)"
   ]
  },
  {
   "cell_type": "code",
   "execution_count": null,
   "metadata": {},
   "outputs": [],
   "source": [
    "max_t = ds['Temperature'].max()\n",
    "print(f'Maximum temperature in top layer: {max_t:.1f}C')"
   ]
  },
  {
   "cell_type": "markdown",
   "metadata": {},
   "source": [
    "### Find position of max temperature and plot\n",
    "\n",
    "Use numpy argmax() method to find the element with the largest value."
   ]
  },
  {
   "cell_type": "code",
   "execution_count": null,
   "metadata": {},
   "outputs": [],
   "source": [
    "timestep = 0\n",
    "max_elem_id = ds['Temperature'][timestep,:].argmax()\n",
    "top_element_coordinates = dfs.element_coordinates[dfs.top_elements]\n",
    "max_x, max_y = top_element_coordinates[max_elem_id][:2]\n",
    "max_x, max_y"
   ]
  },
  {
   "cell_type": "code",
   "execution_count": null,
   "metadata": {},
   "outputs": [],
   "source": [
    "ax = dfs.plot(z=ds['Temperature'][timestep,:], figsize=(6,7), label=\"Temperature\")\n",
    "ax.plot(max_x, max_y, marker='*', markersize=20);"
   ]
  },
  {
   "cell_type": "markdown",
   "metadata": {},
   "source": [
    "# Read 1D profile from 3D file\n",
    "\n",
    "Find water column which has highest temperature and plot profile for all 3 time steps using static(!) z information. "
   ]
  },
  {
   "cell_type": "code",
   "execution_count": null,
   "metadata": {},
   "outputs": [],
   "source": [
    "elem_ids = dfs.find_nearest_profile_elements(max_x, max_y)\n",
    "z_profile_static = dfs.element_coordinates[elem_ids,2]"
   ]
  },
  {
   "cell_type": "code",
   "execution_count": null,
   "metadata": {},
   "outputs": [],
   "source": [
    "ds_profile = dfs.read(items=['Temperature'], elements=elem_ids)"
   ]
  },
  {
   "cell_type": "code",
   "execution_count": null,
   "metadata": {},
   "outputs": [],
   "source": [
    "ds_profile['Temperature'].shape   # 3 timesteps and 4 layers (no z-layers at this position)"
   ]
  },
  {
   "cell_type": "code",
   "execution_count": null,
   "metadata": {},
   "outputs": [],
   "source": [
    "for timestep in range(len(ds_profile.time)):\n",
    "    plt.plot(ds_profile['Temperature'][timestep, :],z_profile_static, label=f\"{ds_profile.time[timestep]}\")\n",
    "plt.title(\"Temperature profiles with static z\")\n",
    "plt.legend();"
   ]
  },
  {
   "cell_type": "markdown",
   "metadata": {},
   "source": [
    "The profile can also be plotted using the dynamic z-values. We then need to read the z values in the nodes together with the temperature data for each time step. "
   ]
  },
  {
   "cell_type": "code",
   "execution_count": null,
   "metadata": {},
   "outputs": [],
   "source": [
    "ds_dyn = dfs.read(items=['Z coordinate','Temperature'], elements=elem_ids)"
   ]
  },
  {
   "cell_type": "code",
   "execution_count": null,
   "metadata": {},
   "outputs": [],
   "source": [
    "print(f\"Static z: {z_profile_static}\")\n",
    "\n",
    "# requires MIKE IO v0.8.1\n",
    "# ec_dyn = dfs.get_element_coordinates(elements=elem_ids, zn=ds_dyn['Z coordinate'][0,:])\n",
    "# print(f\"Dynamic z: {ec_dyn[:,2].round(3)} (first time step)\")\n",
    "# ec_dyn = dfs.get_element_coordinates(elements=elem_ids, zn=ds_dyn['Z coordinate'][1,:])\n",
    "# print(f\"Dynamic z: {ec_dyn[:,2].round(3)} (second time step)\")"
   ]
  },
  {
   "cell_type": "code",
   "execution_count": null,
   "metadata": {},
   "outputs": [],
   "source": [
    "# requires MIKE IO v0.8.1\n",
    "# for timestep in range(len(ds_dyn.time)):\n",
    "#     ec_dyn = dfs.get_element_coordinates(elements=elem_ids, zn=ds_dyn['Z coordinate'][timestep,:])\n",
    "#     plt.plot(ds_dyn['Temperature'][timestep, :],ec_dyn[:,2], label=f\"{ds.time[timestep]}\")\n",
    "# plt.title(\"Temperature profiles with dynamic z\")\n",
    "# plt.legend();"
   ]
  },
  {
   "cell_type": "markdown",
   "metadata": {},
   "source": [
    "## Read vertical slice"
   ]
  },
  {
   "cell_type": "code",
   "execution_count": null,
   "metadata": {},
   "outputs": [],
   "source": [
    "filename = \"data/oresund_vertical_slice.dfsu\"\n",
    "dfs = Dfsu(filename)\n",
    "dfs"
   ]
  },
  {
   "cell_type": "code",
   "execution_count": null,
   "metadata": {},
   "outputs": [],
   "source": [
    "print(dfs.bottom_elements[:9])\n",
    "print(dfs.n_layers_per_column[:9])\n",
    "print(dfs.top_elements[:9])"
   ]
  },
  {
   "cell_type": "code",
   "execution_count": null,
   "metadata": {},
   "outputs": [],
   "source": [
    "ds = dfs.read(items=\"Temperature\")"
   ]
  },
  {
   "cell_type": "code",
   "execution_count": null,
   "metadata": {},
   "outputs": [],
   "source": [
    "dfs.plot_vertical_profile(ds[0][0,:], title=\"Transect\", label=\"Temperature\");"
   ]
  }
 ],
 "metadata": {
  "interpreter": {
   "hash": "fa576ebcd40e010bdc0ae86b06ce09151f3424f9e9aed6893ff04f39a9299d89"
  },
  "kernelspec": {
   "display_name": "Python 3.8.10 64-bit ('base': conda)",
   "name": "python3"
  },
  "language_info": {
   "codemirror_mode": {
    "name": "ipython",
    "version": 3
   },
   "file_extension": ".py",
   "mimetype": "text/x-python",
   "name": "python",
   "nbconvert_exporter": "python",
   "pygments_lexer": "ipython3",
   "version": "3.8.10"
  },
  "orig_nbformat": 4
 },
 "nbformat": 4,
 "nbformat_minor": 2
}
