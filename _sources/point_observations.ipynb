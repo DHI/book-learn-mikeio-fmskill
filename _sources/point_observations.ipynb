{
 "cells": [
  {
   "cell_type": "markdown",
   "source": [
    "# Point observations\r\n",
    "\r\n",
    "In order to skill assess our model, we need observational data. The data may come from a file or web api. We will cover the following situations here: \r\n",
    "\r\n",
    "* File\r\n",
    "    - dfs0\r\n",
    "    - csv/excel\r\n",
    "    - NetCDF\r\n",
    "* REST API\r\n",
    "\r\n",
    "FMskill has the class [PointObservation](https://dhi.github.io/fmskill/api.html#fmskill.observation.PointObservation) for working with point observations. \r\n",
    "\r\n",
    "Point observations consist of time-value-pairs (data) and *meta* data such as\r\n",
    "\r\n",
    "* data type (e.g. water level)\r\n",
    "* unit (e.g. meter)\r\n",
    "* position (coordinates + coordinate reference system)\r\n",
    "\r\n",
    "FMskill is agnostic to the coordinate reference system (CRS) and it is therefore the responsibility of the user to make sure that all data (observations and model) use the same CRS."
   ],
   "metadata": {}
  },
  {
   "cell_type": "code",
   "execution_count": null,
   "source": [
    "from fmskill import PointObservation\r\n",
    "from mikeio import eum"
   ],
   "outputs": [],
   "metadata": {}
  },
  {
   "cell_type": "markdown",
   "source": [
    "## Observations from dfs0\r\n",
    "\r\n",
    "Dfs0 files are obviously a very common container format for point observation data at DHI. Besides the data (time-value-pairs), it typically contains meta data information about the data type (EUM type, e.g. water level) and data unit (EUMUnit, e.g. meter). It can potentially store geographical information too, but this is rarely the case. We typically need to provide this information ourselves."
   ],
   "metadata": {}
  },
  {
   "cell_type": "code",
   "execution_count": null,
   "source": [
    "fn = 'data/SW/HKNA_Hm0.dfs0'\r\n",
    "pos = (4.2420, 52.6887)   # LONG/LAT"
   ],
   "outputs": [],
   "metadata": {}
  },
  {
   "cell_type": "markdown",
   "source": [
    "## The PointObservation class\r\n",
    "\r\n",
    "The PointObservation class can be instantiated with a dfs0 file name, the item, the position and optionally also a user-defined name.\r\n",
    "\r\n",
    "PointObservation has basic properties like start_time, end_time, n_points, name, etc\r\n",
    "\r\n",
    "PointObservation has two simple plot methods:\r\n",
    "\r\n",
    "* plot() - a time series plot\r\n",
    "* hist() - a histogram\r\n",
    "\r\n",
    "Note that the PointObservation object takes a single item only. "
   ],
   "metadata": {}
  },
  {
   "cell_type": "code",
   "execution_count": null,
   "source": [
    "o1 = PointObservation(fn, item=0, x=pos[0], y=pos[1], name=\"HKNA_from_dfs0\")\r\n",
    "o1"
   ],
   "outputs": [],
   "metadata": {}
  },
  {
   "cell_type": "code",
   "execution_count": null,
   "source": [
    "o1.start_time, o1.end_time"
   ],
   "outputs": [],
   "metadata": {}
  },
  {
   "cell_type": "code",
   "execution_count": null,
   "source": [
    "o1.n_points"
   ],
   "outputs": [],
   "metadata": {}
  },
  {
   "cell_type": "code",
   "execution_count": null,
   "source": [
    "o1.df.head()"
   ],
   "outputs": [],
   "metadata": {}
  },
  {
   "cell_type": "code",
   "execution_count": null,
   "source": [
    "o1.itemInfo"
   ],
   "outputs": [],
   "metadata": {}
  },
  {
   "cell_type": "code",
   "execution_count": null,
   "source": [
    "o1.hist();"
   ],
   "outputs": [],
   "metadata": {}
  },
  {
   "cell_type": "code",
   "execution_count": null,
   "source": [
    "o1.plot(figsize=(12,6));"
   ],
   "outputs": [],
   "metadata": {}
  },
  {
   "cell_type": "markdown",
   "source": [
    "## Observations from csv/excel\r\n",
    "\r\n",
    "Pandas is our friend. FMSkill PointObservation can be initialized with either a dfs0 or a pandas DataFrame. Hence, for other file types than dfs0 the workflow is to first create a DataFrame with the data e.g. using pd.read_csv() or pd.read_excel(). \r\n",
    "\r\n",
    "You need to provide the **position** and preferably also **EUM info** (for nice plotting). "
   ],
   "metadata": {}
  },
  {
   "cell_type": "code",
   "execution_count": null,
   "source": [
    "import pandas as pd\r\n",
    "df = pd.read_csv('data/SW/HKNA_Hm0.csv', index_col=0, parse_dates=True)   # make sure index is DateTimeIndex!\r\n",
    "#df = pd.read_excel('data/SW/HKNA_Hm0.xlsx', index_col=0, parse_dates=True)\r\n",
    "df.head()"
   ],
   "outputs": [],
   "metadata": {}
  },
  {
   "cell_type": "code",
   "execution_count": null,
   "source": [
    "df.plot();"
   ],
   "outputs": [],
   "metadata": {}
  },
  {
   "cell_type": "code",
   "execution_count": null,
   "source": [
    "o2 = PointObservation(df, item=\"Hm0\", x=pos[0], y=pos[1], name='Hm0_from_csv')"
   ],
   "outputs": [],
   "metadata": {}
  },
  {
   "cell_type": "markdown",
   "source": [
    "set the itemInfo for nicer plotting, and EUM validation when matching with a model result"
   ],
   "metadata": {}
  },
  {
   "cell_type": "code",
   "execution_count": null,
   "source": [
    "o2.itemInfo = eum.ItemInfo(eum.EUMType.Significant_wave_height)"
   ],
   "outputs": [],
   "metadata": {}
  },
  {
   "cell_type": "code",
   "execution_count": null,
   "source": [
    "o2.plot();"
   ],
   "outputs": [],
   "metadata": {}
  },
  {
   "cell_type": "markdown",
   "source": [
    "## Observations from NetCDF\r\n",
    "\r\n",
    "A NetCDF file is best handled with xarray. It often contains meta data that you can use for constructing your point observation object."
   ],
   "metadata": {}
  },
  {
   "cell_type": "code",
   "execution_count": null,
   "source": [
    "import xarray as xr\r\n",
    "ds = xr.open_dataset('data/SW/HKNA_Hm0.nc')\r\n",
    "ds"
   ],
   "outputs": [],
   "metadata": {}
  },
  {
   "cell_type": "code",
   "execution_count": null,
   "source": [
    "ds.position"
   ],
   "outputs": [],
   "metadata": {}
  },
  {
   "cell_type": "code",
   "execution_count": null,
   "source": [
    "ds.Hm0"
   ],
   "outputs": [],
   "metadata": {}
  },
  {
   "cell_type": "code",
   "execution_count": null,
   "source": [
    "ds.Hm0.plot();"
   ],
   "outputs": [],
   "metadata": {}
  },
  {
   "cell_type": "code",
   "execution_count": null,
   "source": [
    "df = ds.to_dataframe()\r\n",
    "o3 = PointObservation(df, item=\"Hm0\", x=ds.position[0], y=ds.position[1], name='Hm0_from_nc')"
   ],
   "outputs": [],
   "metadata": {}
  },
  {
   "cell_type": "code",
   "execution_count": null,
   "source": [
    "o3.itemInfo = eum.ItemInfo(eum.EUMType.Significant_wave_height)"
   ],
   "outputs": [],
   "metadata": {}
  },
  {
   "cell_type": "code",
   "execution_count": null,
   "source": [
    "o3.plot();"
   ],
   "outputs": [],
   "metadata": {}
  },
  {
   "cell_type": "markdown",
   "source": [
    "## Observations from web APIs\r\n",
    "\r\n",
    "FMSkill has functionality for accessing observational data trough a few selected APIs - that functionality will soon moved to a separate repo WatObs. More about that later."
   ],
   "metadata": {}
  },
  {
   "cell_type": "markdown",
   "source": [
    "For now - check out the [DMI_observations.ipynb](https://nbviewer.jupyter.org/github/DHI/fmskill/blob/main/notebooks/DMI_observations.ipynb) notebook. "
   ],
   "metadata": {}
  }
 ],
 "metadata": {
  "orig_nbformat": 4,
  "language_info": {
   "name": "python",
   "version": "3.8.10",
   "mimetype": "text/x-python",
   "codemirror_mode": {
    "name": "ipython",
    "version": 3
   },
   "pygments_lexer": "ipython3",
   "nbconvert_exporter": "python",
   "file_extension": ".py"
  },
  "kernelspec": {
   "name": "python3",
   "display_name": "Python 3.8.10 64-bit ('base': conda)"
  },
  "interpreter": {
   "hash": "fa576ebcd40e010bdc0ae86b06ce09151f3424f9e9aed6893ff04f39a9299d89"
  }
 },
 "nbformat": 4,
 "nbformat_minor": 2
}